i#%%

import matplotlib.pyplot as plt  # for plotting graphs
# import required python libraries
import pandas as pd
import seaborn as sns

%matplotlib inline

# load set in to Pandas dataframe
df = pd.read_csv('./data/survey_results_public-2019.csv')
schema_df = pd.read_csv('./data/survey_results_schema-2019.csv')
# preview head of the dataset
df.head()

#%%

schema_df.values

#%%

df['JobSat'].value_counts()

#%%

df['JobSat'].dropna(axis=0).values

#%%

sns.set(font_scale=1)
df['JobSat'].value_counts().plot.bar(figsize=(12, 6))
plt.title('Job Satisfaction Summary by Satisfaction Level')
plt.xlabel('JobSat Level')
plt.ylabel('Number of Respondents') 

#%%

job_sat_vals = ['Slightly satisfied','Very satisfied']
job_dis_sat_vals = ['Slightly dissatisfied','Very dissatisfied']

#%%

most_job_sat_df = df.copy()[(df['JobSat'] == job_sat_vals[0] ) | (df['JobSat'] == job_sat_vals[1])]
un_sat_df = df.copy()[(df['JobSat'] == job_dis_sat_vals[0] ) | (df['JobSat']== job_dis_sat_vals[1])]

#%%

def merge_sat_and_dsat_by_cols(col):
    most_job_sat_col_df = most_job_sat_df.groupby([col]).size().sort_values(ascending=False).reset_index(name='SatCount')
    least_job_sat_col_df = un_sat_df.groupby([col]).size().sort_values(ascending=False).reset_index(name='DisSatCount')
    return pd.merge(most_job_sat_col_df, least_job_sat_col_df , on=col)


#%%

merged_edl_df = merge_sat_and_dsat_by_cols('EdLevel')

#%%

def calculate_sat_and_dsat_pecentage(merged_df):
    merged_df['SatPercentage'] = merged_df['SatCount'] / (merged_df['SatCount']+merged_df['DisSatCount']) 
    merged_df['SatPercentage'] = pd.Series(["{0:.2f}%".format(val * 100) for val in merged_df['SatPercentage']], index = merged_df.index)
    
    merged_df['DisSatPercentage'] = merged_df['DisSatCount'] / (merged_df['SatCount']+merged_df['DisSatCount'])
    merged_df['DisSatPercentage'] = pd.Series(["{0:.2f}%".format(val * 100) for val in merged_df['DisSatPercentage']], index = merged_df.index)
    
    return merged_df.sort_values(by='SatPercentage', ascending=False).reset_index(drop=True)

#%%

calculate_sat_and_dsat_pecentage(merged_edl_df)

#%%

merged_unmajor_df = merge_sat_and_dsat_by_cols('UndergradMajor')

#%%

calculate_sat_and_dsat_pecentage(merged_unmajor_df)


#%%

age_range_labels = ['Range(Years) 15-24', 'Range(Years) 25-34','Range(Years) 35-44','Range(Years) 45-54','Range(Years) 55-64']
most_job_sat_df.loc[:,'AgeRange'] = pd.cut(most_job_sat_df['Age'], bins=[14, 24, 34, 44, 54, 64], labels=age_range_labels)
un_sat_df.loc[:,'AgeRange'] = pd.cut(un_sat_df['Age'], bins=[14, 24, 34, 44, 54, 64],labels=age_range_labels)

#%%

fig ,axs = plt.subplots(1,2, figsize=(15, 15))
most_job_sat_df['AgeRange'].value_counts().plot(kind='pie', ax=axs.flatten()[0], autopct='%1.0f%%')
un_sat_df['AgeRange'].value_counts().plot(kind='pie', ax=axs.flatten()[1], autopct='%1.0f%%')
fig.subplots_adjust(left=0.08, right=0.98, bottom=0.05, top=0.9,hspace=0.4, wspace=0.3)

#%%

#before removing outliers
fig, axs = plt.subplots(1,2, figsize=(20,10))
most_job_sat_df.boxplot(column=['ConvertedComp'], ax=axs.flatten()[0])
axs[0].set_title('Most Job Satisfaction')
un_sat_df.boxplot(column=['ConvertedComp'], ax=axs.flatten()[1])
axs[1].set_title('Least Job Satisfaction')

#%%

# after removing outliers
fig, axs = plt.subplots(1,2, figsize=(20,10))

most_job_sat_df[most_job_sat_df['ConvertedComp'] <= 175000].boxplot(column=['ConvertedComp'], ax=axs.flatten()[0])
axs[0].set_title('Most Job Satisfaction')
un_sat_df[un_sat_df['ConvertedComp'] <= 160000].boxplot(column=['ConvertedComp'], ax=axs.flatten()[1])
axs[1].set_title('Least Job Satisfaction')

#%%

# salary ranges wise grouping
salary_range_labels = ['Range($) 25K-50K', 'Range($) 50K-75K','Range($) 75K-100K','Range($) 100K-125K','Range($) 125K-150K', 'Range($) 150K-175K']
salary_bins = [25000, 50000, 75000, 100000, 125000, 150000, 175000]
most_job_sat_df.loc[:,'ConvertedCompRange'] = pd.cut(most_job_sat_df['ConvertedComp'], bins=salary_bins, labels=salary_range_labels)
un_sat_df.loc[:,'ConvertedCompRange'] = pd.cut(un_sat_df['ConvertedComp'], bins=salary_bins, labels=salary_range_labels)


#%%

merged_salary_range_df = merge_sat_and_dsat_by_cols('ConvertedCompRange')
merged_salary_range_df

#%%

calculate_sat_and_dsat_pecentage(merged_salary_range_df)

#%%

sns.set(font_scale=1)
merged_salary_range_df.index = salary_range_labels
merged_salary_range_df.plot.bar(figsize=(12, 6))
plt.title('Job Satisfaction Summary by Salary Range')
plt.xlabel('Salary Range')
plt.ylabel('Number of Respondents') 
# plt.figure()

