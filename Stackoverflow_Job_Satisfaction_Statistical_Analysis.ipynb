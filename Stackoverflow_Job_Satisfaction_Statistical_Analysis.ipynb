{
 "cells": [
  {
   "cell_type": "markdown",
   "metadata": {},
   "source": [
    "### Insights of Exploratory Data Analysis from [2019 Stack Overflow Developer Survey](https://insights.stackoverflow.com/survey).\n",
    "There are six sections in this survey. \n",
    "* Basic Information\n",
    "* Education, Work, and Career\n",
    "* Technology and Tech Culture\n",
    "* Stack Overflow Usage + Community\n",
    "* Demographic Information\n",
    "* Survey Review"
   ]
  },
  {
   "cell_type": "markdown",
   "metadata": {},
   "source": [
    "### Major Python resources used for this analysis\n",
    "* [MatplotLib](https://matplotlib.org/) \n",
    "* [Pandas](https://pandas.pydata.org/)\n",
    "* [Seaborn](https://seaborn.pydata.org/)"
   ]
  },
  {
   "cell_type": "code",
   "execution_count": 2,
   "metadata": {
    "pycharm": {
     "is_executing": false,
     "name": "#%%\n"
    }
   },
   "outputs": [
    {
     "data": {
      "text/html": [
       "<div>\n",
       "<style scoped>\n",
       "    .dataframe tbody tr th:only-of-type {\n",
       "        vertical-align: middle;\n",
       "    }\n",
       "\n",
       "    .dataframe tbody tr th {\n",
       "        vertical-align: top;\n",
       "    }\n",
       "\n",
       "    .dataframe thead th {\n",
       "        text-align: right;\n",
       "    }\n",
       "</style>\n",
       "<table border=\"1\" class=\"dataframe\">\n",
       "  <thead>\n",
       "    <tr style=\"text-align: right;\">\n",
       "      <th></th>\n",
       "      <th>Respondent</th>\n",
       "      <th>MainBranch</th>\n",
       "      <th>Hobbyist</th>\n",
       "      <th>OpenSourcer</th>\n",
       "      <th>OpenSource</th>\n",
       "      <th>Employment</th>\n",
       "      <th>Country</th>\n",
       "      <th>Student</th>\n",
       "      <th>EdLevel</th>\n",
       "      <th>UndergradMajor</th>\n",
       "      <th>...</th>\n",
       "      <th>WelcomeChange</th>\n",
       "      <th>SONewContent</th>\n",
       "      <th>Age</th>\n",
       "      <th>Gender</th>\n",
       "      <th>Trans</th>\n",
       "      <th>Sexuality</th>\n",
       "      <th>Ethnicity</th>\n",
       "      <th>Dependents</th>\n",
       "      <th>SurveyLength</th>\n",
       "      <th>SurveyEase</th>\n",
       "    </tr>\n",
       "  </thead>\n",
       "  <tbody>\n",
       "    <tr>\n",
       "      <th>0</th>\n",
       "      <td>1</td>\n",
       "      <td>I am a student who is learning to code</td>\n",
       "      <td>Yes</td>\n",
       "      <td>Never</td>\n",
       "      <td>The quality of OSS and closed source software ...</td>\n",
       "      <td>Not employed, and not looking for work</td>\n",
       "      <td>United Kingdom</td>\n",
       "      <td>No</td>\n",
       "      <td>Primary/elementary school</td>\n",
       "      <td>NaN</td>\n",
       "      <td>...</td>\n",
       "      <td>Just as welcome now as I felt last year</td>\n",
       "      <td>Tech articles written by other developers;Indu...</td>\n",
       "      <td>14.0</td>\n",
       "      <td>Man</td>\n",
       "      <td>No</td>\n",
       "      <td>Straight / Heterosexual</td>\n",
       "      <td>NaN</td>\n",
       "      <td>No</td>\n",
       "      <td>Appropriate in length</td>\n",
       "      <td>Neither easy nor difficult</td>\n",
       "    </tr>\n",
       "    <tr>\n",
       "      <th>1</th>\n",
       "      <td>2</td>\n",
       "      <td>I am a student who is learning to code</td>\n",
       "      <td>No</td>\n",
       "      <td>Less than once per year</td>\n",
       "      <td>The quality of OSS and closed source software ...</td>\n",
       "      <td>Not employed, but looking for work</td>\n",
       "      <td>Bosnia and Herzegovina</td>\n",
       "      <td>Yes, full-time</td>\n",
       "      <td>Secondary school (e.g. American high school, G...</td>\n",
       "      <td>NaN</td>\n",
       "      <td>...</td>\n",
       "      <td>Just as welcome now as I felt last year</td>\n",
       "      <td>Tech articles written by other developers;Indu...</td>\n",
       "      <td>19.0</td>\n",
       "      <td>Man</td>\n",
       "      <td>No</td>\n",
       "      <td>Straight / Heterosexual</td>\n",
       "      <td>NaN</td>\n",
       "      <td>No</td>\n",
       "      <td>Appropriate in length</td>\n",
       "      <td>Neither easy nor difficult</td>\n",
       "    </tr>\n",
       "    <tr>\n",
       "      <th>2</th>\n",
       "      <td>3</td>\n",
       "      <td>I am not primarily a developer, but I write co...</td>\n",
       "      <td>Yes</td>\n",
       "      <td>Never</td>\n",
       "      <td>The quality of OSS and closed source software ...</td>\n",
       "      <td>Employed full-time</td>\n",
       "      <td>Thailand</td>\n",
       "      <td>No</td>\n",
       "      <td>Bachelor’s degree (BA, BS, B.Eng., etc.)</td>\n",
       "      <td>Web development or web design</td>\n",
       "      <td>...</td>\n",
       "      <td>Just as welcome now as I felt last year</td>\n",
       "      <td>Tech meetups or events in your area;Courses on...</td>\n",
       "      <td>28.0</td>\n",
       "      <td>Man</td>\n",
       "      <td>No</td>\n",
       "      <td>Straight / Heterosexual</td>\n",
       "      <td>NaN</td>\n",
       "      <td>Yes</td>\n",
       "      <td>Appropriate in length</td>\n",
       "      <td>Neither easy nor difficult</td>\n",
       "    </tr>\n",
       "    <tr>\n",
       "      <th>3</th>\n",
       "      <td>4</td>\n",
       "      <td>I am a developer by profession</td>\n",
       "      <td>No</td>\n",
       "      <td>Never</td>\n",
       "      <td>The quality of OSS and closed source software ...</td>\n",
       "      <td>Employed full-time</td>\n",
       "      <td>United States</td>\n",
       "      <td>No</td>\n",
       "      <td>Bachelor’s degree (BA, BS, B.Eng., etc.)</td>\n",
       "      <td>Computer science, computer engineering, or sof...</td>\n",
       "      <td>...</td>\n",
       "      <td>Just as welcome now as I felt last year</td>\n",
       "      <td>Tech articles written by other developers;Indu...</td>\n",
       "      <td>22.0</td>\n",
       "      <td>Man</td>\n",
       "      <td>No</td>\n",
       "      <td>Straight / Heterosexual</td>\n",
       "      <td>White or of European descent</td>\n",
       "      <td>No</td>\n",
       "      <td>Appropriate in length</td>\n",
       "      <td>Easy</td>\n",
       "    </tr>\n",
       "    <tr>\n",
       "      <th>4</th>\n",
       "      <td>5</td>\n",
       "      <td>I am a developer by profession</td>\n",
       "      <td>Yes</td>\n",
       "      <td>Once a month or more often</td>\n",
       "      <td>OSS is, on average, of HIGHER quality than pro...</td>\n",
       "      <td>Employed full-time</td>\n",
       "      <td>Ukraine</td>\n",
       "      <td>No</td>\n",
       "      <td>Bachelor’s degree (BA, BS, B.Eng., etc.)</td>\n",
       "      <td>Computer science, computer engineering, or sof...</td>\n",
       "      <td>...</td>\n",
       "      <td>Just as welcome now as I felt last year</td>\n",
       "      <td>Tech meetups or events in your area;Courses on...</td>\n",
       "      <td>30.0</td>\n",
       "      <td>Man</td>\n",
       "      <td>No</td>\n",
       "      <td>Straight / Heterosexual</td>\n",
       "      <td>White or of European descent;Multiracial</td>\n",
       "      <td>No</td>\n",
       "      <td>Appropriate in length</td>\n",
       "      <td>Easy</td>\n",
       "    </tr>\n",
       "  </tbody>\n",
       "</table>\n",
       "<p>5 rows × 85 columns</p>\n",
       "</div>"
      ],
      "text/plain": [
       "   Respondent                                         MainBranch Hobbyist  \\\n",
       "0           1             I am a student who is learning to code      Yes   \n",
       "1           2             I am a student who is learning to code       No   \n",
       "2           3  I am not primarily a developer, but I write co...      Yes   \n",
       "3           4                     I am a developer by profession       No   \n",
       "4           5                     I am a developer by profession      Yes   \n",
       "\n",
       "                  OpenSourcer  \\\n",
       "0                       Never   \n",
       "1     Less than once per year   \n",
       "2                       Never   \n",
       "3                       Never   \n",
       "4  Once a month or more often   \n",
       "\n",
       "                                          OpenSource  \\\n",
       "0  The quality of OSS and closed source software ...   \n",
       "1  The quality of OSS and closed source software ...   \n",
       "2  The quality of OSS and closed source software ...   \n",
       "3  The quality of OSS and closed source software ...   \n",
       "4  OSS is, on average, of HIGHER quality than pro...   \n",
       "\n",
       "                               Employment                 Country  \\\n",
       "0  Not employed, and not looking for work          United Kingdom   \n",
       "1      Not employed, but looking for work  Bosnia and Herzegovina   \n",
       "2                      Employed full-time                Thailand   \n",
       "3                      Employed full-time           United States   \n",
       "4                      Employed full-time                 Ukraine   \n",
       "\n",
       "          Student                                            EdLevel  \\\n",
       "0              No                          Primary/elementary school   \n",
       "1  Yes, full-time  Secondary school (e.g. American high school, G...   \n",
       "2              No           Bachelor’s degree (BA, BS, B.Eng., etc.)   \n",
       "3              No           Bachelor’s degree (BA, BS, B.Eng., etc.)   \n",
       "4              No           Bachelor’s degree (BA, BS, B.Eng., etc.)   \n",
       "\n",
       "                                      UndergradMajor  ...  \\\n",
       "0                                                NaN  ...   \n",
       "1                                                NaN  ...   \n",
       "2                      Web development or web design  ...   \n",
       "3  Computer science, computer engineering, or sof...  ...   \n",
       "4  Computer science, computer engineering, or sof...  ...   \n",
       "\n",
       "                             WelcomeChange  \\\n",
       "0  Just as welcome now as I felt last year   \n",
       "1  Just as welcome now as I felt last year   \n",
       "2  Just as welcome now as I felt last year   \n",
       "3  Just as welcome now as I felt last year   \n",
       "4  Just as welcome now as I felt last year   \n",
       "\n",
       "                                        SONewContent   Age Gender Trans  \\\n",
       "0  Tech articles written by other developers;Indu...  14.0    Man    No   \n",
       "1  Tech articles written by other developers;Indu...  19.0    Man    No   \n",
       "2  Tech meetups or events in your area;Courses on...  28.0    Man    No   \n",
       "3  Tech articles written by other developers;Indu...  22.0    Man    No   \n",
       "4  Tech meetups or events in your area;Courses on...  30.0    Man    No   \n",
       "\n",
       "                 Sexuality                                 Ethnicity  \\\n",
       "0  Straight / Heterosexual                                       NaN   \n",
       "1  Straight / Heterosexual                                       NaN   \n",
       "2  Straight / Heterosexual                                       NaN   \n",
       "3  Straight / Heterosexual              White or of European descent   \n",
       "4  Straight / Heterosexual  White or of European descent;Multiracial   \n",
       "\n",
       "  Dependents           SurveyLength                  SurveyEase  \n",
       "0         No  Appropriate in length  Neither easy nor difficult  \n",
       "1         No  Appropriate in length  Neither easy nor difficult  \n",
       "2        Yes  Appropriate in length  Neither easy nor difficult  \n",
       "3         No  Appropriate in length                        Easy  \n",
       "4         No  Appropriate in length                        Easy  \n",
       "\n",
       "[5 rows x 85 columns]"
      ]
     },
     "execution_count": 2,
     "metadata": {},
     "output_type": "execute_result"
    }
   ],
   "source": [
    "import matplotlib.pyplot as plt  # for plotting graphs\n",
    "# import required python libraries\n",
    "import pandas as pd\n",
    "import seaborn as sns\n",
    "\n",
    " # this is used to plot on Juputer notebook console, if you want to have plots as separate window, \n",
    " # please use plt.show()\n",
    "%matplotlib inline\n",
    "\n",
    "# load main data set in to Pandas dataframe\n",
    "df = pd.read_csv('./data/survey_results_public-2019.csv') # main Pandas Df \n",
    "# load schema data set in to Pandas DF\n",
    "schema_df = pd.read_csv('./data/survey_results_schema-2019.csv')\n",
    "# preview head of the dataset\n",
    "df.head()"
   ]
  },
  {
   "cell_type": "code",
   "execution_count": 3,
   "metadata": {
    "pycharm": {
     "is_executing": false,
     "name": "#%%\n"
    }
   },
   "outputs": [
    {
     "data": {
      "text/plain": [
       "array([['Respondent',\n",
       "        'Randomized respondent ID number (not in order of survey response time)'],\n",
       "       ['MainBranch',\n",
       "        'Which of the following options best describes you today? Here, by \"developer\" we mean \"someone who writes code.\"'],\n",
       "       ['Hobbyist', 'Do you code as a hobby?'],\n",
       "       ['OpenSourcer', 'How often do you contribute to open source?'],\n",
       "       ['OpenSource',\n",
       "        'How do you feel about the quality of open source software (OSS)?'],\n",
       "       ['Employment',\n",
       "        'Which of the following best describes your current employment status?'],\n",
       "       ['Country', 'In which country do you currently reside?'],\n",
       "       ['Student',\n",
       "        'Are you currently enrolled in a formal, degree-granting college or university program?'],\n",
       "       ['EdLevel',\n",
       "        'Which of the following best describes the highest level of formal education that you’ve completed?'],\n",
       "       ['UndergradMajor',\n",
       "        'What was your main or most important field of study?'],\n",
       "       ['EduOther',\n",
       "        'Which of the following types of non-degree education have you used or participated in? Please select all that apply.'],\n",
       "       ['OrgSize',\n",
       "        'Approximately how many people are employed by the company or organization you work for?'],\n",
       "       ['DevType',\n",
       "        'Which of the following describe you? Please select all that apply.'],\n",
       "       ['YearsCode',\n",
       "        'Including any education, how many years have you been coding?'],\n",
       "       ['Age1stCode',\n",
       "        'At what age did you write your first line of code or program? (E.g., webpage, Hello World, Scratch project)'],\n",
       "       ['YearsCodePro',\n",
       "        'How many years have you coded professionally (as a part of your work)?'],\n",
       "       ['CareerSat',\n",
       "        'Overall, how satisfied are you with your career thus far?'],\n",
       "       ['JobSat',\n",
       "        'How satisfied are you with your current job? (If you work multiple jobs, answer for the one you spend the most hours on.)'],\n",
       "       ['MgrIdiot',\n",
       "        'How confident are you that your manager knows what they’re doing?'],\n",
       "       ['MgrMoney',\n",
       "        'Do you believe that you need to be a manager to make more money?'],\n",
       "       ['MgrWant',\n",
       "        'Do you want to become a manager yourself in the future?'],\n",
       "       ['JobSeek',\n",
       "        'Which of the following best describes your current job-seeking status?'],\n",
       "       ['LastHireDate',\n",
       "        'When was the last time that you took a job with a new employer?'],\n",
       "       ['LastInt',\n",
       "        'In your most recent successful job interview (resulting in a job offer), you were asked to... (check all that apply)'],\n",
       "       ['FizzBuzz',\n",
       "        'Have you ever been asked to solve FizzBuzz in an interview?'],\n",
       "       ['JobFactors',\n",
       "        'Imagine that you are deciding between two job offers with the same compensation, benefits, and location. Of the following factors, which 3 are MOST important to you?'],\n",
       "       ['ResumeUpdate',\n",
       "        'Think back to the last time you updated your resumé, CV, or an online profile on a job site. What is the PRIMARY reason that you did so?'],\n",
       "       ['CurrencySymbol',\n",
       "        \"Which currency do you use day-to-day? If your answer is complicated, please pick the one you're most comfortable estimating in.\"],\n",
       "       ['CurrencyDesc',\n",
       "        \"Which currency do you use day-to-day? If your answer is complicated, please pick the one you're most comfortable estimating in.\"],\n",
       "       ['CompTotal',\n",
       "        'What is your current total compensation (salary, bonuses, and perks, before taxes and deductions), in `CurrencySymbol`? Please enter a whole number in the box below, without any punctuation. If you are paid hourly, please estimate an equivalent weekly, monthly, or yearly salary. If you prefer not to answer, please leave the box empty.'],\n",
       "       ['CompFreq', 'Is that compensation weekly, monthly, or yearly?'],\n",
       "       ['ConvertedComp',\n",
       "        'Salary converted to annual USD salaries using the exchange rate on 2019-02-01, assuming 12 working months and 50 working weeks.'],\n",
       "       ['WorkWeekHrs',\n",
       "        'On average, how many hours per week do you work?'],\n",
       "       ['WorkPlan', 'How structured or planned is your work?'],\n",
       "       ['WorkChallenge',\n",
       "        'Of these options, what are your greatest challenges to productivity as a developer? Select up to 3:'],\n",
       "       ['WorkRemote', 'How often do you work remotely?'],\n",
       "       ['WorkLoc', 'Where would you prefer to work?'],\n",
       "       ['ImpSyn',\n",
       "        'For the specific work you do, and the years of experience you have, how do you rate your own level of competence?'],\n",
       "       ['CodeRev', 'Do you review code as part of your work?'],\n",
       "       ['CodeRevHrs',\n",
       "        'On average, how many hours per week do you spend on code review?'],\n",
       "       ['UnitTests',\n",
       "        'Does your company regularly employ unit tests in the development of their products?'],\n",
       "       ['PurchaseHow',\n",
       "        'How does your company make decisions about purchasing new technology (cloud, AI, IoT, databases)?'],\n",
       "       ['PurchaseWhat',\n",
       "        'What level of influence do you, personally, have over new technology purchases at your organization?'],\n",
       "       ['LanguageWorkedWith',\n",
       "        'Which of the following programming, scripting, and markup languages have you done extensive development work in over the past year, and which do you want to work in over the next year?  (If you both worked with the language and want to continue to do so, please check both boxes in that row.)'],\n",
       "       ['LanguageDesireNextYear',\n",
       "        'Which of the following programming, scripting, and markup languages have you done extensive development work in over the past year, and which do you want to work in over the next year?  (If you both worked with the language and want to continue to do so, please check both boxes in that row.)'],\n",
       "       ['DatabaseWorkedWith',\n",
       "        'Which of the following database environments have you done extensive development work in over the past year, and which do you want to work in over the next year?   (If you both worked with the database and want to continue to do so, please check both boxes in that row.)'],\n",
       "       ['DatabaseDesireNextYear',\n",
       "        'Which of the following database environments have you done extensive development work in over the past year, and which do you want to work in over the next year?   (If you both worked with the database and want to continue to do so, please check both boxes in that row.)'],\n",
       "       ['PlatformWorkedWith',\n",
       "        'Which of the following platforms have you done extensive development work for over the past year?   (If you both developed for the platform and want to continue to do so, please check both boxes in that row.)'],\n",
       "       ['PlatformDesireNextYear',\n",
       "        'Which of the following platforms have you done extensive development work for over the past year?   (If you both developed for the platform and want to continue to do so, please check both boxes in that row.)'],\n",
       "       ['WebFrameWorkedWith',\n",
       "        'Which of the following web frameworks have you done extensive development work in over the past year, and which do you want to work in over the next year? (If you both worked with the framework and want to continue to do so, please check both boxes in that row.)'],\n",
       "       ['WebFrameDesireNextYear',\n",
       "        'Which of the following web frameworks have you done extensive development work in over the past year, and which do you want to work in over the next year? (If you both worked with the framework and want to continue to do so, please check both boxes in that row.)'],\n",
       "       ['MiscTechWorkedWith',\n",
       "        'Which of the following other frameworks, libraries, and tools have you done extensive development work in over the past year, and which do you want to work in over the next year? (If you both worked with the technology and want to continue to do so, please check both boxes in that row.)'],\n",
       "       ['MiscTechDesireNextYear',\n",
       "        'Which of the following other frameworks, libraries, and tools have you done extensive development work in over the past year, and which do you want to work in over the next year? (If you both worked with the technology and want to continue to do so, please check both boxes in that row.)'],\n",
       "       ['DevEnviron',\n",
       "        'Which development environment(s) do you use regularly?  Please check all that apply.'],\n",
       "       ['OpSys',\n",
       "        'What is the primary operating system in which you work?'],\n",
       "       ['Containers',\n",
       "        'How do you use containers (Docker, Open Container Initiative (OCI), etc.)?'],\n",
       "       ['BlockchainOrg',\n",
       "        'How is your organization thinking about or implementing blockchain technology?'],\n",
       "       ['BlockchainIs',\n",
       "        'Blockchain / cryptocurrency technology is primarily:'],\n",
       "       ['BetterLife',\n",
       "        'Do you think people born today will have a better life than their parents?'],\n",
       "       ['ITperson', 'Are you the \"IT support person\" for your family?'],\n",
       "       ['OffOn', 'Have you tried turning it off and on again?'],\n",
       "       ['SocialMedia', 'What social media site do you use the most?'],\n",
       "       ['Extraversion',\n",
       "        'Do you prefer online chat or IRL conversations?'],\n",
       "       ['ScreenName', 'What do you call it?'],\n",
       "       ['SOVisit1st',\n",
       "        'To the best of your memory, when did you first visit Stack Overflow?'],\n",
       "       ['SOVisitFreq',\n",
       "        'How frequently would you say you visit Stack Overflow?'],\n",
       "       ['SOVisitTo',\n",
       "        'I visit Stack Overflow to... (check all that apply)'],\n",
       "       ['SOFindAnswer',\n",
       "        'On average, how many times a week do you find (and use) an answer on Stack Overflow?'],\n",
       "       ['SOTimeSaved',\n",
       "        'Think back to the last time you solved a coding problem using Stack Overflow, as well as the last time you solved a problem using a different resource. Which was faster?'],\n",
       "       ['SOHowMuchTime',\n",
       "        \"About how much time did you save? If you're not sure, please use your best estimate.\"],\n",
       "       ['SOAccount', 'Do you have a Stack Overflow account?'],\n",
       "       ['SOPartFreq',\n",
       "        'How frequently would you say you participate in Q&A on Stack Overflow? By participate we mean ask, answer, vote for, or comment on questions.'],\n",
       "       ['SOJobs', 'Have you ever used or visited Stack Overflow Jobs?'],\n",
       "       ['EntTeams',\n",
       "        'Have you ever used Stack Overflow for Enterprise or Stack Overflow for Teams?'],\n",
       "       ['SOComm',\n",
       "        'Do you consider yourself a member of the Stack Overflow community?'],\n",
       "       ['WelcomeChange',\n",
       "        'Compared to last year, how welcome do you feel on Stack Overflow?'],\n",
       "       ['SONewContent',\n",
       "        'Would you like to see any of the following on Stack Overflow? Check all that apply.'],\n",
       "       ['Age',\n",
       "        'What is your age (in years)? If you prefer not to answer, you may leave this question blank.'],\n",
       "       ['Gender',\n",
       "        'Which of the following do you currently identify as? Please select all that apply. If you prefer not to answer, you may leave this question blank.'],\n",
       "       ['Trans', 'Do you identify as transgender?'],\n",
       "       ['Sexuality',\n",
       "        'Which of the following do you currently identify as? Please select all that apply. If you prefer not to answer, you may leave this question blank.'],\n",
       "       ['Ethnicity',\n",
       "        'Which of the following do you identify as? Please check all that apply. If you prefer not to answer, you may leave this question blank.'],\n",
       "       ['Dependents',\n",
       "        'Do you have any dependents (e.g., children, elders, or others) that you care for?'],\n",
       "       ['SurveyLength',\n",
       "        'How do you feel about the length of the survey this year?'],\n",
       "       ['SurveyEase',\n",
       "        'How easy or difficult was this survey to complete?']],\n",
       "      dtype=object)"
      ]
     },
     "execution_count": 3,
     "metadata": {},
     "output_type": "execute_result"
    }
   ],
   "source": [
    "# schema is discribed, what are available features in this data set with the feature definitions.\n",
    "schema_df.values"
   ]
  },
  {
   "cell_type": "markdown",
   "metadata": {},
   "source": [
    "### Questions that are going to discuss in this analysis\n",
    "* What is the overall job satisfaction in the IT industry?\n",
    "* What are gender and age differences in job satisfaction?\n",
    "* How does education relate to job satisfaction?\n",
    "* How does income level affect job satisfaction?"
   ]
  },
  {
   "cell_type": "code",
   "execution_count": 5,
   "metadata": {
    "pycharm": {
     "is_executing": false,
     "name": "#%%\n"
    }
   },
   "outputs": [
    {
     "data": {
      "text/plain": [
       "Slightly satisfied                    24207\n",
       "Very satisfied                        22452\n",
       "Slightly dissatisfied                 10752\n",
       "Neither satisfied nor dissatisfied     8720\n",
       "Very dissatisfied                      4857\n",
       "Name: JobSat, dtype: int64"
      ]
     },
     "execution_count": 5,
     "metadata": {},
     "output_type": "execute_result"
    }
   ],
   "source": [
    "\"\"\"\n",
    "Pandas value_counts is an inbuilt pandas function that returns an object containing counts of \n",
    "unique values in sorted order. \n",
    "\"\"\"\n",
    "df['JobSat'].value_counts()"
   ]
  },
  {
   "cell_type": "code",
   "execution_count": 6,
   "metadata": {
    "pycharm": {
     "is_executing": false,
     "name": "#%%\n"
    }
   },
   "outputs": [
    {
     "data": {
      "text/plain": [
       "Text(0, 0.5, 'Number of Respondents')"
      ]
     },
     "execution_count": 6,
     "metadata": {},
     "output_type": "execute_result"
    },
    {
     "data": {
      "image/png": "[encoded data removed]",
      "text/plain": [
       "<Figure size 864x432 with 1 Axes>"
      ]
     },
     "metadata": {},
     "output_type": "display_data"
    }
   ],
   "source": [
    "# setting the font scale for matplot graphs\n",
    "sns.set(font_scale=1)\n",
    "# Exploratory visualization for `JobSat` colunm, using summetion of each qunique values in `JobSat`. i.e JobSat level\n",
    "df['JobSat'].value_counts().plot.bar(figsize=(12, 6))\n",
    "\n",
    "# matplotlib decorations for the graph\n",
    "plt.title('Job Satisfaction Summary by Satisfaction Level') # titile \n",
    "plt.xlabel('JobSat Level') # X - axis \n",
    "plt.ylabel('Number of Respondents') # Y -axis "
   ]
  },
  {
   "cell_type": "markdown",
   "metadata": {},
   "source": [
    "A total of 24207 of the employees were slightly satisfied, and another 22452 were very satisfied. Added together, these two groups formed 46659 of the samples. Slightly dissatisfied and very dissatisfied employees were only 10752 and 4857 respectively. It can conclude that most of the employees are satisfied with their job among all respondents.  "
   ]
  },
  {
   "cell_type": "code",
   "execution_count": 7,
   "metadata": {
    "pycharm": {
     "is_executing": false,
     "name": "#%%\n"
    }
   },
   "outputs": [],
   "source": [
    "# formating and grouping `Gender` with more readable \n",
    "df.loc[(df['Gender']  !='Man') & (df['Gender'] !='Woman'), 'Gender'] = 'Other'\n",
    "df.loc[ df['Gender']  =='Man', 'Gender'] = 'Male'\n",
    "df.loc[ df['Gender']  =='Woman', 'Gender'] = 'Female'"
   ]
  },
  {
   "cell_type": "code",
   "execution_count": 10,
   "metadata": {
    "pycharm": {
     "is_executing": false,
     "name": "#%%\n"
    }
   },
   "outputs": [
    {
     "data": {
      "text/plain": [
       "2                        Slightly satisfied\n",
       "3                        Slightly satisfied\n",
       "4                     Slightly dissatisfied\n",
       "5                        Slightly satisfied\n",
       "6        Neither satisfied nor dissatisfied\n",
       "                        ...                \n",
       "88326    Neither satisfied nor dissatisfied\n",
       "88327    Neither satisfied nor dissatisfied\n",
       "88328    Neither satisfied nor dissatisfied\n",
       "88329                     Very dissatisfied\n",
       "88330                 Slightly dissatisfied\n",
       "Name: JobSat, Length: 70988, dtype: object"
      ]
     },
     "execution_count": 10,
     "metadata": {},
     "output_type": "execute_result"
    }
   ],
   "source": [
    "# remoev missing values for `JobSat` column\n",
    "df['JobSat'].dropna(axis=0)"
   ]
  },
  {
   "cell_type": "code",
   "execution_count": 11,
   "metadata": {
    "pycharm": {
     "is_executing": false,
     "name": "#%%\n"
    }
   },
   "outputs": [],
   "source": [
    "# select values for Job Satisfaction\n",
    "job_sat_vals = ['Slightly satisfied','Very satisfied']\n",
    "# select values for Job Dissatisfaction\n",
    "job_dis_sat_vals = ['Slightly dissatisfied','Very dissatisfied']"
   ]
  },
  {
   "cell_type": "code",
   "execution_count": 12,
   "metadata": {
    "pycharm": {
     "is_executing": false,
     "name": "#%%\n"
    }
   },
   "outputs": [],
   "source": [
    "# create a Pandas DF for most job satisfaction respondents\n",
    "sat_job_respondents_df = df.copy()[(df['JobSat'] == job_sat_vals[0] ) | (df['JobSat'] == job_sat_vals[1])]\n",
    "# create a Pandas DF fot least job satisfaction respondents\n",
    "dis_sat_job_respondents_df = df.copy()[(df['JobSat'] == job_dis_sat_vals[0] ) | (df['JobSat']== job_dis_sat_vals[1])]"
   ]
  },
  {
   "cell_type": "code",
   "execution_count": 13,
   "metadata": {
    "pycharm": {
     "is_executing": false,
     "name": "#%%\n"
    }
   },
   "outputs": [],
   "source": [
    "# assign a common value for `JobSat` in satisfaction respondent DF\n",
    "sat_job_respondents_df.loc[:, 'JobSat'] = 'Satisfied'\n",
    "# assign a common value for `JobSat` in dissatisfaction respondent DF\n",
    "dis_sat_job_respondents_df.loc[:, 'JobSat'] = 'Dissatisfied'"
   ]
  },
  {
   "cell_type": "code",
   "execution_count": 14,
   "metadata": {
    "pycharm": {
     "is_executing": false,
     "name": "#%%\n"
    }
   },
   "outputs": [],
   "source": [
    "# merge sat and dis sat dfs as one df using Pandas concat function\n",
    "job_sat_respondents_df = pd.concat([sat_job_respondents_df, dis_sat_job_respondents_df], axis=0)"
   ]
  },
  {
   "cell_type": "markdown",
   "metadata": {},
   "source": [
    "### Question 01\n",
    "**Question 01:** What is the overall job satisfaction in the IT industry?"
   ]
  },
  {
   "cell_type": "code",
   "execution_count": 17,
   "metadata": {
    "pycharm": {
     "is_executing": false,
     "name": "#%%\n"
    }
   },
   "outputs": [
    {
     "data": {
      "text/plain": [
       "Text(0.5, 1.0, 'Overall Job Satisfaction Summary')"
      ]
     },
     "execution_count": 17,
     "metadata": {},
     "output_type": "execute_result"
    },
    {
     "data": {
      "image/png": "[encoded data removed]",
      "text/plain": [
       "<Figure size 864x432 with 1 Axes>"
      ]
     },
     "metadata": {},
     "output_type": "display_data"
    }
   ],
   "source": [
    "# setting the font scale for matplot graphs\n",
    "sns.set(font_scale=1)\n",
    "# draw a pie chart for `Overall Job Satisfaction` with common `JobSat` values. i.e Satisfied and Dissatisfied\n",
    "job_sat_respondents_df['JobSat'].value_counts().plot(kind='pie', autopct='%1.2f%%',figsize=(12, 6))\n",
    "# set the title of the pie chart\n",
    "plt.title('Overall Job Satisfaction Summary')"
   ]
  },
  {
   "cell_type": "markdown",
   "metadata": {},
   "source": [
    "**Overall, 74.93 percent of employees are satisfied, whereas 25.07 percent are dissatisfied**"
   ]
  },
  {
   "cell_type": "code",
   "execution_count": 19,
   "metadata": {
    "pycharm": {
     "is_executing": false,
     "name": "#%%\n"
    }
   },
   "outputs": [],
   "source": [
    "def merge_sat_and_dsat_by_cols(col):\n",
    "    \"\"\"\n",
    "    INPUT:\n",
    "        the column name that is joined two dataframes as an one dataframe.\n",
    "    \n",
    "    OUTPUT:\n",
    "        merge df by using selected column\n",
    "    \"\"\"\n",
    "    \n",
    "    sat_job_df = sat_job_respondents_df.groupby([col]).size().sort_values(ascending=False)\\\n",
    "    .reset_index(name='SatCount')\n",
    "    \n",
    "    dis_sat_job_df = dis_sat_job_respondents_df.groupby([col]).size().sort_values(ascending=False)\\\n",
    "    .reset_index(name='DisSatCount')\n",
    "    \n",
    "    return pd.merge(sat_job_df, dis_sat_job_df , on=col)\n"
   ]
  },
  {
   "cell_type": "code",
   "execution_count": null,
   "metadata": {
    "pycharm": {
     "is_executing": false,
     "name": "#%%\n"
    }
   },
   "outputs": [],
   "source": [
    "def calculate_sat_and_dsat_pecentage(merged_df):\n",
    "    \"\"\"\n",
    "    INPUT:\n",
    "        \n",
    "        \n",
    "    OUTPUT:\n",
    "        \n",
    "    \"\"\"\n",
    "    merged_df['SatPercentage'] = merged_df['SatCount'] / (merged_df['SatCount']+merged_df['DisSatCount']) \n",
    "    merged_df['SatPercentage'] = pd.Series([\"{0:.2f}%\".format(val * 100) for val in merged_df['SatPercentage']], \n",
    "                                           index = merged_df.index)\n",
    "    \n",
    "    merged_df['DisSatPercentage'] = merged_df['DisSatCount'] / (merged_df['SatCount']+merged_df['DisSatCount'])\n",
    "    merged_df['DisSatPercentage'] = pd.Series([\"{0:.2f}%\".format(val * 100) for val in merged_df['DisSatPercentage']], \n",
    "                                              index = merged_df.index)\n",
    "    \n",
    "    total = merged_df['SatCount'] + merged_df['DisSatCount']\n",
    "    total_sum = merged_df['SatCount'].sum() + merged_df['DisSatCount'].sum()\n",
    "    merged_df['Total'] =  total\n",
    "    \n",
    "    merged_df['TotalPercentage'] = total/total_sum\n",
    "    merged_df['TotalPercentage'] = pd.Series([\"{0:.2f}%\".format(val * 100) for val in merged_df['TotalPercentage']], \n",
    "                                              index = merged_df.index)\n",
    "    return merged_df.sort_values(by='SatPercentage', ascending=False).reset_index(drop=True)"
   ]
  },
  {
   "cell_type": "code",
   "execution_count": null,
   "metadata": {
    "pycharm": {
     "is_executing": false,
     "name": "#%%\n"
    }
   },
   "outputs": [],
   "source": [
    "merge_gender_df = merge_sat_and_dsat_by_cols('Gender')"
   ]
  },
  {
   "cell_type": "code",
   "execution_count": null,
   "metadata": {
    "pycharm": {
     "is_executing": false,
     "name": "#%%\n"
    }
   },
   "outputs": [],
   "source": [
    "calculate_sat_and_dsat_pecentage(merge_gender_df)"
   ]
  },
  {
   "cell_type": "code",
   "execution_count": null,
   "metadata": {
    "pycharm": {
     "is_executing": false,
     "name": "#%%\n"
    }
   },
   "outputs": [],
   "source": [
    "col_age_group = 'AgeGroup(Years)'\n",
    "age_range_labels = ['15-24', '25-34','35-44','45-54','55-64']\n",
    "most_job_sat_df.loc[:,col_age_group] = pd.cut(most_job_sat_df['Age'], bins=[14, 24, 34, 44, 54, 64], labels=age_range_labels)\n",
    "un_sat_df.loc[:,col_age_group] = pd.cut(un_sat_df['Age'], bins=[14, 24, 34, 44, 54, 64],labels=age_range_labels)"
   ]
  },
  {
   "cell_type": "code",
   "execution_count": null,
   "metadata": {
    "pycharm": {
     "is_executing": false,
     "name": "#%%\n"
    }
   },
   "outputs": [],
   "source": [
    "merged_age_group_df = merge_sat_and_dsat_by_cols(col_age_group)"
   ]
  },
  {
   "cell_type": "code",
   "execution_count": null,
   "metadata": {
    "pycharm": {
     "is_executing": false,
     "name": "#%%\n"
    }
   },
   "outputs": [],
   "source": [
    "calculate_sat_and_dsat_pecentage(merged_age_group_df)\n"
   ]
  },
  {
   "cell_type": "code",
   "execution_count": null,
   "metadata": {
    "pycharm": {
     "is_executing": false,
     "name": "#%%\n"
    }
   },
   "outputs": [],
   "source": [
    "fig ,axs = plt.subplots(1,2, figsize=(15, 15))\n",
    "most_job_sat_df[col_age_group].value_counts().plot(kind='pie', ax=axs.flatten()[0], autopct='%1.2f%%')\n",
    "axs[0].set_title('Job Satisfaction Age Groups')\n",
    "un_sat_df[col_age_group].value_counts().plot(kind='pie', ax=axs.flatten()[1], autopct='%1.2f%%')\n",
    "fig.subplots_adjust(left=0.08, right=0.98, bottom=0.05, top=0.9,hspace=0.4, wspace=0.3)\n",
    "axs[1].set_title('Job Dissatisfaction Age Groups')"
   ]
  },
  {
   "cell_type": "code",
   "execution_count": null,
   "metadata": {
    "pycharm": {
     "is_executing": false,
     "name": "#%%\n"
    }
   },
   "outputs": [],
   "source": [
    "merged_edl_df = merge_sat_and_dsat_by_cols('EdLevel')"
   ]
  },
  {
   "cell_type": "code",
   "execution_count": null,
   "metadata": {
    "pycharm": {
     "is_executing": false,
     "name": "#%%\n"
    }
   },
   "outputs": [],
   "source": [
    "calculate_sat_and_dsat_pecentage(merged_edl_df)"
   ]
  },
  {
   "cell_type": "code",
   "execution_count": null,
   "metadata": {
    "pycharm": {
     "is_executing": false,
     "name": "#%%\n"
    }
   },
   "outputs": [],
   "source": [
    "merged_unmajor_df = merge_sat_and_dsat_by_cols('UndergradMajor')"
   ]
  },
  {
   "cell_type": "code",
   "execution_count": null,
   "metadata": {
    "pycharm": {
     "is_executing": false,
     "name": "#%%\n"
    }
   },
   "outputs": [],
   "source": [
    "calculate_sat_and_dsat_pecentage(merged_unmajor_df)\n"
   ]
  },
  {
   "cell_type": "code",
   "execution_count": null,
   "metadata": {
    "pycharm": {
     "is_executing": false,
     "name": "#%%\n"
    }
   },
   "outputs": [],
   "source": [
    "#before removing outliers\n",
    "fig, axs = plt.subplots(1,2, figsize=(20,10))\n",
    "most_job_sat_df.boxplot(column=['ConvertedComp'], ax=axs.flatten()[0])\n",
    "axs[0].set_title('Income Level by Job Satisfaction')\n",
    "un_sat_df.boxplot(column=['ConvertedComp'], ax=axs.flatten()[1])\n",
    "axs[1].set_title('Income Level by Job Dissatisfaction')"
   ]
  },
  {
   "cell_type": "code",
   "execution_count": null,
   "metadata": {
    "pycharm": {
     "is_executing": false,
     "name": "#%%\n"
    }
   },
   "outputs": [],
   "source": [
    "# after removing outliers\n",
    "fig, axs = plt.subplots(1,2, figsize=(20,10))\n",
    "\n",
    "most_job_sat_df[most_job_sat_df['ConvertedComp'] <= 175000].boxplot(column=['ConvertedComp'], ax=axs.flatten()[0])\n",
    "axs[0].set_title('Most Job Satisfaction')\n",
    "un_sat_df[un_sat_df['ConvertedComp'] <= 160000].boxplot(column=['ConvertedComp'], ax=axs.flatten()[1])\n",
    "axs[1].set_title('Least Job Satisfaction')"
   ]
  },
  {
   "cell_type": "code",
   "execution_count": null,
   "metadata": {
    "pycharm": {
     "is_executing": false,
     "name": "#%%\n"
    }
   },
   "outputs": [],
   "source": [
    "# salary ranges wise grouping\n",
    "salary_range_labels = ['25K-50K', '50K-75K','75K-100K','100K-125K','125K-150K', '150K-175K']\n",
    "salary_bins = [25000, 50000, 75000, 100000, 125000, 150000, 175000]\n",
    "income_level_group = 'IncomeGroup($)'\n",
    "most_job_sat_df.loc[:,income_level_group] = pd.cut(most_job_sat_df['ConvertedComp'], bins=salary_bins, labels=salary_range_labels)\n",
    "un_sat_df.loc[:,income_level_group] = pd.cut(un_sat_df['ConvertedComp'], bins=salary_bins, labels=salary_range_labels)\n"
   ]
  },
  {
   "cell_type": "code",
   "execution_count": null,
   "metadata": {
    "pycharm": {
     "is_executing": false,
     "name": "#%%\n"
    }
   },
   "outputs": [],
   "source": [
    "merged_income_group_df = merge_sat_and_dsat_by_cols(income_level_group)"
   ]
  },
  {
   "cell_type": "code",
   "execution_count": null,
   "metadata": {
    "pycharm": {
     "is_executing": false,
     "name": "#%%\n"
    }
   },
   "outputs": [],
   "source": [
    "calculate_sat_and_dsat_pecentage(merged_income_group_df)"
   ]
  },
  {
   "cell_type": "code",
   "execution_count": null,
   "metadata": {
    "pycharm": {
     "is_executing": false,
     "name": "#%%\n"
    }
   },
   "outputs": [],
   "source": [
    "gender_income_df = df.copy()[(df['Gender'] == 'Male') | (df['Gender'] == 'Female') ][['Gender', 'ConvertedComp', 'JobSat']]\n",
    "gender_income_df  = gender_income_df.dropna(axis=0)"
   ]
  },
  {
   "cell_type": "code",
   "execution_count": null,
   "metadata": {
    "pycharm": {
     "is_executing": false,
     "name": "#%% \n"
    }
   },
   "outputs": [],
   "source": [
    "gender_income_df.loc[:,income_level_group] = pd.cut(gender_income_df['ConvertedComp'], bins=salary_bins, labels=salary_range_labels)\n",
    "\n",
    "gender_income_df = gender_income_df.dropna(subset=[income_level_group],axis=0)\n",
    "selected_df =  gender_income_df.copy()[['Gender', income_level_group, 'JobSat']]"
   ]
  },
  {
   "cell_type": "code",
   "execution_count": null,
   "metadata": {
    "pycharm": {
     "is_executing": false,
     "name": "#%%\n"
    }
   },
   "outputs": [],
   "source": [
    "selected_df.loc[selected_df['JobSat'] =='Slightly satisfied', 'JobSat'] = 'Satisfied'\n",
    "selected_df.loc[selected_df['JobSat'] =='Very satisfied', 'JobSat'] = 'Satisfied'"
   ]
  },
  {
   "cell_type": "code",
   "execution_count": null,
   "metadata": {
    "pycharm": {
     "is_executing": false,
     "name": "#%%\n"
    }
   },
   "outputs": [],
   "source": [
    "job_sat_income_gender_df =  selected_df[selected_df['JobSat'] =='Satisfied']\\\n",
    "    .groupby([income_level_group,'Gender'])\\\n",
    "    .count().reset_index()"
   ]
  },
  {
   "cell_type": "code",
   "execution_count": null,
   "metadata": {
    "pycharm": {
     "is_executing": false,
     "name": "#%%\n"
    }
   },
   "outputs": [],
   "source": [
    "male_df = job_sat_income_gender_df[job_sat_income_gender_df['Gender'] == 'Male'][[income_level_group,'JobSat']]\n",
    "male_df.columns = [income_level_group, 'MaleJobSat']"
   ]
  },
  {
   "cell_type": "code",
   "execution_count": null,
   "metadata": {
    "pycharm": {
     "is_executing": false,
     "name": "#%%\n"
    }
   },
   "outputs": [],
   "source": [
    "female_df = job_sat_income_gender_df[job_sat_income_gender_df['Gender'] == 'Female'][[income_level_group,'JobSat']]\n",
    "female_df.columns = [income_level_group, 'FemaleJobSat']"
   ]
  },
  {
   "cell_type": "code",
   "execution_count": null,
   "metadata": {
    "pycharm": {
     "is_executing": false,
     "name": "#%%\n"
    }
   },
   "outputs": [],
   "source": [
    "gender_contact_df = pd.merge(female_df, male_df, on=income_level_group)\n",
    "gender_contact_df"
   ]
  },
  {
   "cell_type": "code",
   "execution_count": null,
   "metadata": {
    "pycharm": {
     "is_executing": false,
     "name": "#%%\n"
    }
   },
   "outputs": [],
   "source": [
    "gender_contact_df.index = salary_range_labels\n",
    "gender_contact_df.plot(kind='bar' )\n"
   ]
  }
 ],
 "metadata": {
  "kernelspec": {
   "display_name": "Python 3",
   "language": "python",
   "name": "python3"
  },
  "language_info": {
   "codemirror_mode": {
    "name": "ipython",
    "version": 3
   },
   "file_extension": ".py",
   "mimetype": "text/x-python",
   "name": "python",
   "nbconvert_exporter": "python",
   "pygments_lexer": "ipython3",
   "version": "3.6.8"
  },
  "pycharm": {
   "stem_cell": {
    "cell_type": "raw",
    "metadata": {
     "collapsed": false
    },
    "source": []
   }
  }
 },
 "nbformat": 4,
 "nbformat_minor": 1
}
