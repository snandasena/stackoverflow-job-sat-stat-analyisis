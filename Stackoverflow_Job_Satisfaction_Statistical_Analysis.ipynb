{
 "cells": [
  {
   "cell_type": "markdown",
   "metadata": {},
   "source": [
    "### Insights of Exploratory Data Analysis from [2019 Stack Overflow Developer Survey](https://insights.stackoverflow.com/survey).\n",
    "There are six sections in this survey. \n",
    "* Basic Information\n",
    "* Education, Work, and Career\n",
    "* Technology and Tech Culture\n",
    "* Stack Overflow Usage + Community\n",
    "* Demographic Information\n",
    "* Survey Review"
   ]
  },
  {
   "cell_type": "markdown",
   "metadata": {},
   "source": [
    "### Major Python resources used for this analysis\n",
    "* [MatplotLib](https://matplotlib.org/) \n",
    "* [Pandas](https://pandas.pydata.org/)\n",
    "* [Seaborn](https://seaborn.pydata.org/)"
   ]
  },
  {
   "cell_type": "code",
   "execution_count": 1,
   "metadata": {
    "pycharm": {
     "is_executing": false,
     "name": "#%%\n"
    }
   },
   "outputs": [
    {
     "data": {
      "text/html": [
       "<div>\n",
       "<style scoped>\n",
       "    .dataframe tbody tr th:only-of-type {\n",
       "        vertical-align: middle;\n",
       "    }\n",
       "\n",
       "    .dataframe tbody tr th {\n",
       "        vertical-align: top;\n",
       "    }\n",
       "\n",
       "    .dataframe thead th {\n",
       "        text-align: right;\n",
       "    }\n",
       "</style>\n",
       "<table border=\"1\" class=\"dataframe\">\n",
       "  <thead>\n",
       "    <tr style=\"text-align: right;\">\n",
       "      <th></th>\n",
       "      <th>Respondent</th>\n",
       "      <th>MainBranch</th>\n",
       "      <th>Hobbyist</th>\n",
       "      <th>OpenSourcer</th>\n",
       "      <th>OpenSource</th>\n",
       "      <th>Employment</th>\n",
       "      <th>Country</th>\n",
       "      <th>Student</th>\n",
       "      <th>EdLevel</th>\n",
       "      <th>UndergradMajor</th>\n",
       "      <th>...</th>\n",
       "      <th>WelcomeChange</th>\n",
       "      <th>SONewContent</th>\n",
       "      <th>Age</th>\n",
       "      <th>Gender</th>\n",
       "      <th>Trans</th>\n",
       "      <th>Sexuality</th>\n",
       "      <th>Ethnicity</th>\n",
       "      <th>Dependents</th>\n",
       "      <th>SurveyLength</th>\n",
       "      <th>SurveyEase</th>\n",
       "    </tr>\n",
       "  </thead>\n",
       "  <tbody>\n",
       "    <tr>\n",
       "      <th>0</th>\n",
       "      <td>1</td>\n",
       "      <td>I am a student who is learning to code</td>\n",
       "      <td>Yes</td>\n",
       "      <td>Never</td>\n",
       "      <td>The quality of OSS and closed source software ...</td>\n",
       "      <td>Not employed, and not looking for work</td>\n",
       "      <td>United Kingdom</td>\n",
       "      <td>No</td>\n",
       "      <td>Primary/elementary school</td>\n",
       "      <td>NaN</td>\n",
       "      <td>...</td>\n",
       "      <td>Just as welcome now as I felt last year</td>\n",
       "      <td>Tech articles written by other developers;Indu...</td>\n",
       "      <td>14.0</td>\n",
       "      <td>Man</td>\n",
       "      <td>No</td>\n",
       "      <td>Straight / Heterosexual</td>\n",
       "      <td>NaN</td>\n",
       "      <td>No</td>\n",
       "      <td>Appropriate in length</td>\n",
       "      <td>Neither easy nor difficult</td>\n",
       "    </tr>\n",
       "    <tr>\n",
       "      <th>1</th>\n",
       "      <td>2</td>\n",
       "      <td>I am a student who is learning to code</td>\n",
       "      <td>No</td>\n",
       "      <td>Less than once per year</td>\n",
       "      <td>The quality of OSS and closed source software ...</td>\n",
       "      <td>Not employed, but looking for work</td>\n",
       "      <td>Bosnia and Herzegovina</td>\n",
       "      <td>Yes, full-time</td>\n",
       "      <td>Secondary school (e.g. American high school, G...</td>\n",
       "      <td>NaN</td>\n",
       "      <td>...</td>\n",
       "      <td>Just as welcome now as I felt last year</td>\n",
       "      <td>Tech articles written by other developers;Indu...</td>\n",
       "      <td>19.0</td>\n",
       "      <td>Man</td>\n",
       "      <td>No</td>\n",
       "      <td>Straight / Heterosexual</td>\n",
       "      <td>NaN</td>\n",
       "      <td>No</td>\n",
       "      <td>Appropriate in length</td>\n",
       "      <td>Neither easy nor difficult</td>\n",
       "    </tr>\n",
       "    <tr>\n",
       "      <th>2</th>\n",
       "      <td>3</td>\n",
       "      <td>I am not primarily a developer, but I write co...</td>\n",
       "      <td>Yes</td>\n",
       "      <td>Never</td>\n",
       "      <td>The quality of OSS and closed source software ...</td>\n",
       "      <td>Employed full-time</td>\n",
       "      <td>Thailand</td>\n",
       "      <td>No</td>\n",
       "      <td>Bachelor’s degree (BA, BS, B.Eng., etc.)</td>\n",
       "      <td>Web development or web design</td>\n",
       "      <td>...</td>\n",
       "      <td>Just as welcome now as I felt last year</td>\n",
       "      <td>Tech meetups or events in your area;Courses on...</td>\n",
       "      <td>28.0</td>\n",
       "      <td>Man</td>\n",
       "      <td>No</td>\n",
       "      <td>Straight / Heterosexual</td>\n",
       "      <td>NaN</td>\n",
       "      <td>Yes</td>\n",
       "      <td>Appropriate in length</td>\n",
       "      <td>Neither easy nor difficult</td>\n",
       "    </tr>\n",
       "    <tr>\n",
       "      <th>3</th>\n",
       "      <td>4</td>\n",
       "      <td>I am a developer by profession</td>\n",
       "      <td>No</td>\n",
       "      <td>Never</td>\n",
       "      <td>The quality of OSS and closed source software ...</td>\n",
       "      <td>Employed full-time</td>\n",
       "      <td>United States</td>\n",
       "      <td>No</td>\n",
       "      <td>Bachelor’s degree (BA, BS, B.Eng., etc.)</td>\n",
       "      <td>Computer science, computer engineering, or sof...</td>\n",
       "      <td>...</td>\n",
       "      <td>Just as welcome now as I felt last year</td>\n",
       "      <td>Tech articles written by other developers;Indu...</td>\n",
       "      <td>22.0</td>\n",
       "      <td>Man</td>\n",
       "      <td>No</td>\n",
       "      <td>Straight / Heterosexual</td>\n",
       "      <td>White or of European descent</td>\n",
       "      <td>No</td>\n",
       "      <td>Appropriate in length</td>\n",
       "      <td>Easy</td>\n",
       "    </tr>\n",
       "    <tr>\n",
       "      <th>4</th>\n",
       "      <td>5</td>\n",
       "      <td>I am a developer by profession</td>\n",
       "      <td>Yes</td>\n",
       "      <td>Once a month or more often</td>\n",
       "      <td>OSS is, on average, of HIGHER quality than pro...</td>\n",
       "      <td>Employed full-time</td>\n",
       "      <td>Ukraine</td>\n",
       "      <td>No</td>\n",
       "      <td>Bachelor’s degree (BA, BS, B.Eng., etc.)</td>\n",
       "      <td>Computer science, computer engineering, or sof...</td>\n",
       "      <td>...</td>\n",
       "      <td>Just as welcome now as I felt last year</td>\n",
       "      <td>Tech meetups or events in your area;Courses on...</td>\n",
       "      <td>30.0</td>\n",
       "      <td>Man</td>\n",
       "      <td>No</td>\n",
       "      <td>Straight / Heterosexual</td>\n",
       "      <td>White or of European descent;Multiracial</td>\n",
       "      <td>No</td>\n",
       "      <td>Appropriate in length</td>\n",
       "      <td>Easy</td>\n",
       "    </tr>\n",
       "  </tbody>\n",
       "</table>\n",
       "<p>5 rows × 85 columns</p>\n",
       "</div>"
      ],
      "text/plain": [
       "   Respondent                                         MainBranch Hobbyist  \\\n",
       "0           1             I am a student who is learning to code      Yes   \n",
       "1           2             I am a student who is learning to code       No   \n",
       "2           3  I am not primarily a developer, but I write co...      Yes   \n",
       "3           4                     I am a developer by profession       No   \n",
       "4           5                     I am a developer by profession      Yes   \n",
       "\n",
       "                  OpenSourcer  \\\n",
       "0                       Never   \n",
       "1     Less than once per year   \n",
       "2                       Never   \n",
       "3                       Never   \n",
       "4  Once a month or more often   \n",
       "\n",
       "                                          OpenSource  \\\n",
       "0  The quality of OSS and closed source software ...   \n",
       "1  The quality of OSS and closed source software ...   \n",
       "2  The quality of OSS and closed source software ...   \n",
       "3  The quality of OSS and closed source software ...   \n",
       "4  OSS is, on average, of HIGHER quality than pro...   \n",
       "\n",
       "                               Employment                 Country  \\\n",
       "0  Not employed, and not looking for work          United Kingdom   \n",
       "1      Not employed, but looking for work  Bosnia and Herzegovina   \n",
       "2                      Employed full-time                Thailand   \n",
       "3                      Employed full-time           United States   \n",
       "4                      Employed full-time                 Ukraine   \n",
       "\n",
       "          Student                                            EdLevel  \\\n",
       "0              No                          Primary/elementary school   \n",
       "1  Yes, full-time  Secondary school (e.g. American high school, G...   \n",
       "2              No           Bachelor’s degree (BA, BS, B.Eng., etc.)   \n",
       "3              No           Bachelor’s degree (BA, BS, B.Eng., etc.)   \n",
       "4              No           Bachelor’s degree (BA, BS, B.Eng., etc.)   \n",
       "\n",
       "                                      UndergradMajor  ...  \\\n",
       "0                                                NaN  ...   \n",
       "1                                                NaN  ...   \n",
       "2                      Web development or web design  ...   \n",
       "3  Computer science, computer engineering, or sof...  ...   \n",
       "4  Computer science, computer engineering, or sof...  ...   \n",
       "\n",
       "                             WelcomeChange  \\\n",
       "0  Just as welcome now as I felt last year   \n",
       "1  Just as welcome now as I felt last year   \n",
       "2  Just as welcome now as I felt last year   \n",
       "3  Just as welcome now as I felt last year   \n",
       "4  Just as welcome now as I felt last year   \n",
       "\n",
       "                                        SONewContent   Age Gender Trans  \\\n",
       "0  Tech articles written by other developers;Indu...  14.0    Man    No   \n",
       "1  Tech articles written by other developers;Indu...  19.0    Man    No   \n",
       "2  Tech meetups or events in your area;Courses on...  28.0    Man    No   \n",
       "3  Tech articles written by other developers;Indu...  22.0    Man    No   \n",
       "4  Tech meetups or events in your area;Courses on...  30.0    Man    No   \n",
       "\n",
       "                 Sexuality                                 Ethnicity  \\\n",
       "0  Straight / Heterosexual                                       NaN   \n",
       "1  Straight / Heterosexual                                       NaN   \n",
       "2  Straight / Heterosexual                                       NaN   \n",
       "3  Straight / Heterosexual              White or of European descent   \n",
       "4  Straight / Heterosexual  White or of European descent;Multiracial   \n",
       "\n",
       "  Dependents           SurveyLength                  SurveyEase  \n",
       "0         No  Appropriate in length  Neither easy nor difficult  \n",
       "1         No  Appropriate in length  Neither easy nor difficult  \n",
       "2        Yes  Appropriate in length  Neither easy nor difficult  \n",
       "3         No  Appropriate in length                        Easy  \n",
       "4         No  Appropriate in length                        Easy  \n",
       "\n",
       "[5 rows x 85 columns]"
      ]
     },
     "execution_count": 1,
     "metadata": {},
     "output_type": "execute_result"
    }
   ],
   "source": [
    "import matplotlib.pyplot as plt  # for plotting graphs\n",
    "# import required python libraries\n",
    "import pandas as pd\n",
    "import seaborn as sns\n",
    "\n",
    " # this is used to plot on Juputer notebook console, if you want to have plots as separate window, \n",
    " # please use plt.show()\n",
    "%matplotlib inline\n",
    "\n",
    "# load main data set in to Pandas dataframe\n",
    "df = pd.read_csv('./data/survey_results_public-2019.csv') # main Pandas Df \n",
    "# load schema data set in to Pandas DF\n",
    "schema_df = pd.read_csv('./data/survey_results_schema-2019.csv')\n",
    "# preview head of the dataset\n",
    "df.head()"
   ]
  },
  {
   "cell_type": "code",
   "execution_count": 2,
   "metadata": {
    "pycharm": {
     "is_executing": false,
     "name": "#%%\n"
    }
   },
   "outputs": [
    {
     "data": {
      "text/plain": [
       "array([['Respondent',\n",
       "        'Randomized respondent ID number (not in order of survey response time)'],\n",
       "       ['MainBranch',\n",
       "        'Which of the following options best describes you today? Here, by \"developer\" we mean \"someone who writes code.\"'],\n",
       "       ['Hobbyist', 'Do you code as a hobby?'],\n",
       "       ['OpenSourcer', 'How often do you contribute to open source?'],\n",
       "       ['OpenSource',\n",
       "        'How do you feel about the quality of open source software (OSS)?'],\n",
       "       ['Employment',\n",
       "        'Which of the following best describes your current employment status?'],\n",
       "       ['Country', 'In which country do you currently reside?'],\n",
       "       ['Student',\n",
       "        'Are you currently enrolled in a formal, degree-granting college or university program?'],\n",
       "       ['EdLevel',\n",
       "        'Which of the following best describes the highest level of formal education that you’ve completed?'],\n",
       "       ['UndergradMajor',\n",
       "        'What was your main or most important field of study?'],\n",
       "       ['EduOther',\n",
       "        'Which of the following types of non-degree education have you used or participated in? Please select all that apply.'],\n",
       "       ['OrgSize',\n",
       "        'Approximately how many people are employed by the company or organization you work for?'],\n",
       "       ['DevType',\n",
       "        'Which of the following describe you? Please select all that apply.'],\n",
       "       ['YearsCode',\n",
       "        'Including any education, how many years have you been coding?'],\n",
       "       ['Age1stCode',\n",
       "        'At what age did you write your first line of code or program? (E.g., webpage, Hello World, Scratch project)'],\n",
       "       ['YearsCodePro',\n",
       "        'How many years have you coded professionally (as a part of your work)?'],\n",
       "       ['CareerSat',\n",
       "        'Overall, how satisfied are you with your career thus far?'],\n",
       "       ['JobSat',\n",
       "        'How satisfied are you with your current job? (If you work multiple jobs, answer for the one you spend the most hours on.)'],\n",
       "       ['MgrIdiot',\n",
       "        'How confident are you that your manager knows what they’re doing?'],\n",
       "       ['MgrMoney',\n",
       "        'Do you believe that you need to be a manager to make more money?'],\n",
       "       ['MgrWant',\n",
       "        'Do you want to become a manager yourself in the future?'],\n",
       "       ['JobSeek',\n",
       "        'Which of the following best describes your current job-seeking status?'],\n",
       "       ['LastHireDate',\n",
       "        'When was the last time that you took a job with a new employer?'],\n",
       "       ['LastInt',\n",
       "        'In your most recent successful job interview (resulting in a job offer), you were asked to... (check all that apply)'],\n",
       "       ['FizzBuzz',\n",
       "        'Have you ever been asked to solve FizzBuzz in an interview?'],\n",
       "       ['JobFactors',\n",
       "        'Imagine that you are deciding between two job offers with the same compensation, benefits, and location. Of the following factors, which 3 are MOST important to you?'],\n",
       "       ['ResumeUpdate',\n",
       "        'Think back to the last time you updated your resumé, CV, or an online profile on a job site. What is the PRIMARY reason that you did so?'],\n",
       "       ['CurrencySymbol',\n",
       "        \"Which currency do you use day-to-day? If your answer is complicated, please pick the one you're most comfortable estimating in.\"],\n",
       "       ['CurrencyDesc',\n",
       "        \"Which currency do you use day-to-day? If your answer is complicated, please pick the one you're most comfortable estimating in.\"],\n",
       "       ['CompTotal',\n",
       "        'What is your current total compensation (salary, bonuses, and perks, before taxes and deductions), in `CurrencySymbol`? Please enter a whole number in the box below, without any punctuation. If you are paid hourly, please estimate an equivalent weekly, monthly, or yearly salary. If you prefer not to answer, please leave the box empty.'],\n",
       "       ['CompFreq', 'Is that compensation weekly, monthly, or yearly?'],\n",
       "       ['ConvertedComp',\n",
       "        'Salary converted to annual USD salaries using the exchange rate on 2019-02-01, assuming 12 working months and 50 working weeks.'],\n",
       "       ['WorkWeekHrs',\n",
       "        'On average, how many hours per week do you work?'],\n",
       "       ['WorkPlan', 'How structured or planned is your work?'],\n",
       "       ['WorkChallenge',\n",
       "        'Of these options, what are your greatest challenges to productivity as a developer? Select up to 3:'],\n",
       "       ['WorkRemote', 'How often do you work remotely?'],\n",
       "       ['WorkLoc', 'Where would you prefer to work?'],\n",
       "       ['ImpSyn',\n",
       "        'For the specific work you do, and the years of experience you have, how do you rate your own level of competence?'],\n",
       "       ['CodeRev', 'Do you review code as part of your work?'],\n",
       "       ['CodeRevHrs',\n",
       "        'On average, how many hours per week do you spend on code review?'],\n",
       "       ['UnitTests',\n",
       "        'Does your company regularly employ unit tests in the development of their products?'],\n",
       "       ['PurchaseHow',\n",
       "        'How does your company make decisions about purchasing new technology (cloud, AI, IoT, databases)?'],\n",
       "       ['PurchaseWhat',\n",
       "        'What level of influence do you, personally, have over new technology purchases at your organization?'],\n",
       "       ['LanguageWorkedWith',\n",
       "        'Which of the following programming, scripting, and markup languages have you done extensive development work in over the past year, and which do you want to work in over the next year?  (If you both worked with the language and want to continue to do so, please check both boxes in that row.)'],\n",
       "       ['LanguageDesireNextYear',\n",
       "        'Which of the following programming, scripting, and markup languages have you done extensive development work in over the past year, and which do you want to work in over the next year?  (If you both worked with the language and want to continue to do so, please check both boxes in that row.)'],\n",
       "       ['DatabaseWorkedWith',\n",
       "        'Which of the following database environments have you done extensive development work in over the past year, and which do you want to work in over the next year?   (If you both worked with the database and want to continue to do so, please check both boxes in that row.)'],\n",
       "       ['DatabaseDesireNextYear',\n",
       "        'Which of the following database environments have you done extensive development work in over the past year, and which do you want to work in over the next year?   (If you both worked with the database and want to continue to do so, please check both boxes in that row.)'],\n",
       "       ['PlatformWorkedWith',\n",
       "        'Which of the following platforms have you done extensive development work for over the past year?   (If you both developed for the platform and want to continue to do so, please check both boxes in that row.)'],\n",
       "       ['PlatformDesireNextYear',\n",
       "        'Which of the following platforms have you done extensive development work for over the past year?   (If you both developed for the platform and want to continue to do so, please check both boxes in that row.)'],\n",
       "       ['WebFrameWorkedWith',\n",
       "        'Which of the following web frameworks have you done extensive development work in over the past year, and which do you want to work in over the next year? (If you both worked with the framework and want to continue to do so, please check both boxes in that row.)'],\n",
       "       ['WebFrameDesireNextYear',\n",
       "        'Which of the following web frameworks have you done extensive development work in over the past year, and which do you want to work in over the next year? (If you both worked with the framework and want to continue to do so, please check both boxes in that row.)'],\n",
       "       ['MiscTechWorkedWith',\n",
       "        'Which of the following other frameworks, libraries, and tools have you done extensive development work in over the past year, and which do you want to work in over the next year? (If you both worked with the technology and want to continue to do so, please check both boxes in that row.)'],\n",
       "       ['MiscTechDesireNextYear',\n",
       "        'Which of the following other frameworks, libraries, and tools have you done extensive development work in over the past year, and which do you want to work in over the next year? (If you both worked with the technology and want to continue to do so, please check both boxes in that row.)'],\n",
       "       ['DevEnviron',\n",
       "        'Which development environment(s) do you use regularly?  Please check all that apply.'],\n",
       "       ['OpSys',\n",
       "        'What is the primary operating system in which you work?'],\n",
       "       ['Containers',\n",
       "        'How do you use containers (Docker, Open Container Initiative (OCI), etc.)?'],\n",
       "       ['BlockchainOrg',\n",
       "        'How is your organization thinking about or implementing blockchain technology?'],\n",
       "       ['BlockchainIs',\n",
       "        'Blockchain / cryptocurrency technology is primarily:'],\n",
       "       ['BetterLife',\n",
       "        'Do you think people born today will have a better life than their parents?'],\n",
       "       ['ITperson', 'Are you the \"IT support person\" for your family?'],\n",
       "       ['OffOn', 'Have you tried turning it off and on again?'],\n",
       "       ['SocialMedia', 'What social media site do you use the most?'],\n",
       "       ['Extraversion',\n",
       "        'Do you prefer online chat or IRL conversations?'],\n",
       "       ['ScreenName', 'What do you call it?'],\n",
       "       ['SOVisit1st',\n",
       "        'To the best of your memory, when did you first visit Stack Overflow?'],\n",
       "       ['SOVisitFreq',\n",
       "        'How frequently would you say you visit Stack Overflow?'],\n",
       "       ['SOVisitTo',\n",
       "        'I visit Stack Overflow to... (check all that apply)'],\n",
       "       ['SOFindAnswer',\n",
       "        'On average, how many times a week do you find (and use) an answer on Stack Overflow?'],\n",
       "       ['SOTimeSaved',\n",
       "        'Think back to the last time you solved a coding problem using Stack Overflow, as well as the last time you solved a problem using a different resource. Which was faster?'],\n",
       "       ['SOHowMuchTime',\n",
       "        \"About how much time did you save? If you're not sure, please use your best estimate.\"],\n",
       "       ['SOAccount', 'Do you have a Stack Overflow account?'],\n",
       "       ['SOPartFreq',\n",
       "        'How frequently would you say you participate in Q&A on Stack Overflow? By participate we mean ask, answer, vote for, or comment on questions.'],\n",
       "       ['SOJobs', 'Have you ever used or visited Stack Overflow Jobs?'],\n",
       "       ['EntTeams',\n",
       "        'Have you ever used Stack Overflow for Enterprise or Stack Overflow for Teams?'],\n",
       "       ['SOComm',\n",
       "        'Do you consider yourself a member of the Stack Overflow community?'],\n",
       "       ['WelcomeChange',\n",
       "        'Compared to last year, how welcome do you feel on Stack Overflow?'],\n",
       "       ['SONewContent',\n",
       "        'Would you like to see any of the following on Stack Overflow? Check all that apply.'],\n",
       "       ['Age',\n",
       "        'What is your age (in years)? If you prefer not to answer, you may leave this question blank.'],\n",
       "       ['Gender',\n",
       "        'Which of the following do you currently identify as? Please select all that apply. If you prefer not to answer, you may leave this question blank.'],\n",
       "       ['Trans', 'Do you identify as transgender?'],\n",
       "       ['Sexuality',\n",
       "        'Which of the following do you currently identify as? Please select all that apply. If you prefer not to answer, you may leave this question blank.'],\n",
       "       ['Ethnicity',\n",
       "        'Which of the following do you identify as? Please check all that apply. If you prefer not to answer, you may leave this question blank.'],\n",
       "       ['Dependents',\n",
       "        'Do you have any dependents (e.g., children, elders, or others) that you care for?'],\n",
       "       ['SurveyLength',\n",
       "        'How do you feel about the length of the survey this year?'],\n",
       "       ['SurveyEase',\n",
       "        'How easy or difficult was this survey to complete?']],\n",
       "      dtype=object)"
      ]
     },
     "execution_count": 2,
     "metadata": {},
     "output_type": "execute_result"
    }
   ],
   "source": [
    "# schema is discribed, what are available features in this data set with the feature definitions.\n",
    "schema_df.values"
   ]
  },
  {
   "cell_type": "markdown",
   "metadata": {},
   "source": [
    "### Questions that are going to be discused in this analysis\n",
    "* What is the overall job satisfaction in the IT industry?\n",
    "* What are gender and age differences in job satisfaction?\n",
    "* How does education relate to job satisfaction?\n",
    "* How does income level affect job satisfaction?"
   ]
  },
  {
   "cell_type": "code",
   "execution_count": 3,
   "metadata": {
    "pycharm": {
     "is_executing": false,
     "name": "#%%\n"
    }
   },
   "outputs": [
    {
     "data": {
      "text/plain": [
       "Slightly satisfied                    24207\n",
       "Very satisfied                        22452\n",
       "Slightly dissatisfied                 10752\n",
       "Neither satisfied nor dissatisfied     8720\n",
       "Very dissatisfied                      4857\n",
       "Name: JobSat, dtype: int64"
      ]
     },
     "execution_count": 3,
     "metadata": {},
     "output_type": "execute_result"
    }
   ],
   "source": [
    "\"\"\"\n",
    "Pandas value_counts is an inbuilt pandas function that returns an object containing counts of \n",
    "unique values in sorted order. \n",
    "\"\"\"\n",
    "df['JobSat'].value_counts()"
   ]
  },
  {
   "cell_type": "code",
   "execution_count": 4,
   "metadata": {
    "pycharm": {
     "is_executing": false,
     "name": "#%%\n"
    }
   },
   "outputs": [
    {
     "data": {
      "text/plain": [
       "Text(0, 0.5, 'Number of Respondents')"
      ]
     },
     "execution_count": 4,
     "metadata": {},
     "output_type": "execute_result"
    },
    {
     "data": {
      "image/png": "[encoded data removed]",
      "text/plain": [
       "<Figure size 864x432 with 1 Axes>"
      ]
     },
     "metadata": {},
     "output_type": "display_data"
    }
   ],
   "source": [
    "# setting the font scale for matplot graphs\n",
    "sns.set(font_scale=1)\n",
    "# Exploratory visualization for `JobSat` colunm, using summetion of each qunique values in `JobSat`. i.e JobSat level\n",
    "df['JobSat'].value_counts().plot.bar(figsize=(12, 6))\n",
    "\n",
    "# matplotlib decorations for the graph\n",
    "plt.title('Job Satisfaction Summary by Satisfaction Level') # titile \n",
    "plt.xlabel('JobSat Level') # X - axis \n",
    "plt.ylabel('Number of Respondents') # Y -axis "
   ]
  },
  {
   "cell_type": "markdown",
   "metadata": {},
   "source": [
    "A total of 24207 of the employees were slightly satisfied, and another 22452 were very satisfied. Added together, these two groups formed 46659 of the samples. Slightly dissatisfied and very dissatisfied employees were only 10752 and 4857 respectively. It can conclude that most of the employees are satisfied with their job among all respondents.  "
   ]
  },
  {
   "cell_type": "code",
   "execution_count": 5,
   "metadata": {
    "pycharm": {
     "is_executing": false,
     "name": "#%%\n"
    }
   },
   "outputs": [],
   "source": [
    "# formating and grouping `Gender` with more readable \n",
    "df.loc[(df['Gender']  !='Man') & (df['Gender'] !='Woman'), 'Gender'] = 'Other'\n",
    "df.loc[ df['Gender']  =='Man', 'Gender'] = 'Male'\n",
    "df.loc[ df['Gender']  =='Woman', 'Gender'] = 'Female'"
   ]
  },
  {
   "cell_type": "code",
   "execution_count": 6,
   "metadata": {
    "pycharm": {
     "is_executing": false,
     "name": "#%%\n"
    }
   },
   "outputs": [
    {
     "data": {
      "text/plain": [
       "2                        Slightly satisfied\n",
       "3                        Slightly satisfied\n",
       "4                     Slightly dissatisfied\n",
       "5                        Slightly satisfied\n",
       "6        Neither satisfied nor dissatisfied\n",
       "                        ...                \n",
       "88326    Neither satisfied nor dissatisfied\n",
       "88327    Neither satisfied nor dissatisfied\n",
       "88328    Neither satisfied nor dissatisfied\n",
       "88329                     Very dissatisfied\n",
       "88330                 Slightly dissatisfied\n",
       "Name: JobSat, Length: 70988, dtype: object"
      ]
     },
     "execution_count": 6,
     "metadata": {},
     "output_type": "execute_result"
    }
   ],
   "source": [
    "# remoev missing values for `JobSat` column\n",
    "df['JobSat'].dropna(axis=0)"
   ]
  },
  {
   "cell_type": "code",
   "execution_count": 7,
   "metadata": {
    "pycharm": {
     "is_executing": false,
     "name": "#%%\n"
    }
   },
   "outputs": [],
   "source": [
    "# select values for Job Satisfaction\n",
    "job_sat_vals = ['Slightly satisfied','Very satisfied']\n",
    "# select values for Job Dissatisfaction\n",
    "job_dis_sat_vals = ['Slightly dissatisfied','Very dissatisfied']"
   ]
  },
  {
   "cell_type": "code",
   "execution_count": 8,
   "metadata": {
    "pycharm": {
     "is_executing": false,
     "name": "#%%\n"
    }
   },
   "outputs": [],
   "source": [
    "# create a Pandas DF for most job satisfaction respondents\n",
    "sat_job_respondents_df = df.copy()[(df['JobSat'] == job_sat_vals[0] ) | (df['JobSat'] == job_sat_vals[1])]\n",
    "# create a Pandas DF fot least job satisfaction respondents\n",
    "dis_sat_job_respondents_df = df.copy()[(df['JobSat'] == job_dis_sat_vals[0] ) | (df['JobSat']== job_dis_sat_vals[1])]"
   ]
  },
  {
   "cell_type": "code",
   "execution_count": 9,
   "metadata": {
    "pycharm": {
     "is_executing": false,
     "name": "#%%\n"
    }
   },
   "outputs": [],
   "source": [
    "# assign a common value for `JobSat` in satisfaction respondent DF\n",
    "sat_job_respondents_df.loc[:, 'JobSat'] = 'Satisfied'\n",
    "# assign a common value for `JobSat` in dissatisfaction respondent DF\n",
    "dis_sat_job_respondents_df.loc[:, 'JobSat'] = 'Dissatisfied'"
   ]
  },
  {
   "cell_type": "code",
   "execution_count": 10,
   "metadata": {
    "pycharm": {
     "is_executing": false,
     "name": "#%%\n"
    }
   },
   "outputs": [],
   "source": [
    "# merge sat and dis sat dfs as one df using Pandas concat function\n",
    "job_sat_respondents_df = pd.concat([sat_job_respondents_df, dis_sat_job_respondents_df], axis=0)"
   ]
  },
  {
   "cell_type": "markdown",
   "metadata": {},
   "source": [
    "### Question 01\n",
    "**Question 01:** What is the overall job satisfaction in the IT industry?"
   ]
  },
  {
   "cell_type": "code",
   "execution_count": 11,
   "metadata": {
    "pycharm": {
     "is_executing": false,
     "name": "#%%\n"
    }
   },
   "outputs": [
    {
     "data": {
      "text/plain": [
       "Text(0.5, 1.0, 'Overall Job Satisfaction Summary')"
      ]
     },
     "execution_count": 11,
     "metadata": {},
     "output_type": "execute_result"
    },
    {
     "data": {
      "image/png": "[encoded data removed]",
      "text/plain": [
       "<Figure size 864x432 with 1 Axes>"
      ]
     },
     "metadata": {},
     "output_type": "display_data"
    }
   ],
   "source": [
    "# setting the font scale for matplot graphs\n",
    "sns.set(font_scale=1)\n",
    "# draw a pie chart for `Overall Job Satisfaction` with common `JobSat` values. i.e Satisfied and Dissatisfied\n",
    "job_sat_respondents_df['JobSat'].value_counts().plot(kind='pie', autopct='%1.2f%%',figsize=(12, 6))\n",
    "# set the title of the pie chart\n",
    "plt.title('Overall Job Satisfaction Summary')"
   ]
  },
  {
   "cell_type": "markdown",
   "metadata": {},
   "source": [
    "**Overall, 74.93 percent of employees are satisfied, whereas 25.07 percent are dissatisfied**"
   ]
  },
  {
   "cell_type": "code",
   "execution_count": 12,
   "metadata": {
    "pycharm": {
     "is_executing": false,
     "name": "#%%\n"
    }
   },
   "outputs": [],
   "source": [
    "def merge_sat_and_dsat_by_cols(col):\n",
    "    \"\"\"\n",
    "    INPUT:\n",
    "        the column name that is joined two dataframes as an one dataframe.\n",
    "    \n",
    "    OUTPUT:\n",
    "        merge df by using selected column\n",
    "    \"\"\"\n",
    "    \n",
    "    sat_job_df = sat_job_respondents_df.groupby([col]).size().sort_values(ascending=False)\\\n",
    "    .reset_index(name='SatCount')\n",
    "    \n",
    "    dis_sat_job_df = dis_sat_job_respondents_df.groupby([col]).size().sort_values(ascending=False)\\\n",
    "    .reset_index(name='DisSatCount')\n",
    "    \n",
    "    return pd.merge(sat_job_df, dis_sat_job_df , on=col)\n"
   ]
  },
  {
   "cell_type": "code",
   "execution_count": 13,
   "metadata": {
    "pycharm": {
     "is_executing": false,
     "name": "#%%\n"
    }
   },
   "outputs": [],
   "source": [
    "def calculate_sat_and_dsat_pecentage(merged_df):\n",
    "    \"\"\"\n",
    "    INPUT:\n",
    "        merged pandas Df, that is required to append new columns `SatPercentage`,`DisSatPercentage`, and `TotalPercentage`\n",
    "        i.e TotalPercentage = (SatCount+DisSatCount)/ (SatCount.Sum + DisSatCount.Sum) * 100\n",
    "        \n",
    "    OUTPUT:\n",
    "        A Pandas Df, that is inclued with new columns with percentages\n",
    "    \"\"\"\n",
    "    # add `SatPercentage` to merged DF\n",
    "    merged_df['SatPercentage'] = merged_df['SatCount'] / (merged_df['SatCount'] + merged_df['DisSatCount']) \n",
    "    # format `SatPercentage` values in DF\n",
    "    merged_df['SatPercentage'] = pd.Series([\"{0:.2f}%\".format(val * 100) for val in merged_df['SatPercentage']], \n",
    "                                           index = merged_df.index)\n",
    "    # add `DisSatPercentage` to merged DF\n",
    "    merged_df['DisSatPercentage'] = merged_df['DisSatCount'] / (merged_df['SatCount']+merged_df['DisSatCount'])\n",
    "    # format `DisSatPercentage` \n",
    "    merged_df['DisSatPercentage'] = pd.Series([\"{0:.2f}%\".format(val * 100) for val in merged_df['DisSatPercentage']], \n",
    "                                              index = merged_df.index)\n",
    "    # total column for each row\n",
    "    total = merged_df['SatCount'] + merged_df['DisSatCount']\n",
    "    # summention of the all rows\n",
    "    total_sum = merged_df['SatCount'].sum() + merged_df['DisSatCount'].sum()\n",
    "    merged_df['Total'] =  total\n",
    "    \n",
    "    # add `TotalPercentage` to merged DF\n",
    "    merged_df['TotalPercentage'] = total/total_sum\n",
    "    # format `TotalPercentage`\n",
    "    merged_df['TotalPercentage'] = pd.Series([\"{0:.2f}%\".format(val * 100) for val in merged_df['TotalPercentage']], \n",
    "                                              index = merged_df.index)\n",
    "    \n",
    "    # sort and return merged DF\n",
    "    return merged_df.sort_values(by='SatPercentage', ascending=False).reset_index(drop=True)"
   ]
  },
  {
   "cell_type": "markdown",
   "metadata": {},
   "source": [
    "### Question 2\n",
    "**Question 2:** What are gender and age differences in job satisfaction?"
   ]
  },
  {
   "cell_type": "markdown",
   "metadata": {},
   "source": [
    "#### Gender of Employees by Job Satisfaction"
   ]
  },
  {
   "cell_type": "code",
   "execution_count": 14,
   "metadata": {
    "pycharm": {
     "is_executing": false,
     "name": "#%%\n"
    }
   },
   "outputs": [],
   "source": [
    "# create a merged DF using `Gender` column\n",
    "merged_gender_df = merge_sat_and_dsat_by_cols('Gender')"
   ]
  },
  {
   "cell_type": "code",
   "execution_count": 15,
   "metadata": {
    "pycharm": {
     "is_executing": false,
     "name": "#%%\n"
    }
   },
   "outputs": [
    {
     "data": {
      "text/html": [
       "<div>\n",
       "<style scoped>\n",
       "    .dataframe tbody tr th:only-of-type {\n",
       "        vertical-align: middle;\n",
       "    }\n",
       "\n",
       "    .dataframe tbody tr th {\n",
       "        vertical-align: top;\n",
       "    }\n",
       "\n",
       "    .dataframe thead th {\n",
       "        text-align: right;\n",
       "    }\n",
       "</style>\n",
       "<table border=\"1\" class=\"dataframe\">\n",
       "  <thead>\n",
       "    <tr style=\"text-align: right;\">\n",
       "      <th></th>\n",
       "      <th>Gender</th>\n",
       "      <th>SatCount</th>\n",
       "      <th>DisSatCount</th>\n",
       "      <th>SatPercentage</th>\n",
       "      <th>DisSatPercentage</th>\n",
       "      <th>Total</th>\n",
       "      <th>TotalPercentage</th>\n",
       "    </tr>\n",
       "  </thead>\n",
       "  <tbody>\n",
       "    <tr>\n",
       "      <th>0</th>\n",
       "      <td>Female</td>\n",
       "      <td>3319</td>\n",
       "      <td>1036</td>\n",
       "      <td>76.21%</td>\n",
       "      <td>23.79%</td>\n",
       "      <td>4355</td>\n",
       "      <td>6.99%</td>\n",
       "    </tr>\n",
       "    <tr>\n",
       "      <th>1</th>\n",
       "      <td>Male</td>\n",
       "      <td>41481</td>\n",
       "      <td>13865</td>\n",
       "      <td>74.95%</td>\n",
       "      <td>25.05%</td>\n",
       "      <td>55346</td>\n",
       "      <td>88.88%</td>\n",
       "    </tr>\n",
       "    <tr>\n",
       "      <th>2</th>\n",
       "      <td>Other</td>\n",
       "      <td>1859</td>\n",
       "      <td>708</td>\n",
       "      <td>72.42%</td>\n",
       "      <td>27.58%</td>\n",
       "      <td>2567</td>\n",
       "      <td>4.12%</td>\n",
       "    </tr>\n",
       "  </tbody>\n",
       "</table>\n",
       "</div>"
      ],
      "text/plain": [
       "   Gender  SatCount  DisSatCount SatPercentage DisSatPercentage  Total  \\\n",
       "0  Female      3319         1036        76.21%           23.79%   4355   \n",
       "1    Male     41481        13865        74.95%           25.05%  55346   \n",
       "2   Other      1859          708        72.42%           27.58%   2567   \n",
       "\n",
       "  TotalPercentage  \n",
       "0           6.99%  \n",
       "1          88.88%  \n",
       "2           4.12%  "
      ]
     },
     "execution_count": 15,
     "metadata": {},
     "output_type": "execute_result"
    }
   ],
   "source": [
    "# calculate row percentages and all column percentages for merged_gender_df\n",
    "calculate_sat_and_dsat_pecentage(merged_gender_df)"
   ]
  },
  {
   "cell_type": "markdown",
   "metadata": {},
   "source": [
    "**Concerning gender, about 88.88 percent were males whereas 6.99. percent were females. The level of job satisfaction by gender did not show much difference with more than 74 percent of both males and females were satisfied with their job.**"
   ]
  },
  {
   "cell_type": "markdown",
   "metadata": {},
   "source": [
    "#### Age Group of Employees by Job Satisfaction"
   ]
  },
  {
   "cell_type": "code",
   "execution_count": 16,
   "metadata": {
    "pycharm": {
     "is_executing": false,
     "name": "#%%\n"
    }
   },
   "outputs": [],
   "source": [
    "# age group column name\n",
    "age_group_col_name = 'AgeGroup(Years)'\n",
    "# age groups labels\n",
    "age_group_labels = ['15-24', '25-34','35-44','45-54','55-64']\n",
    "# age group inbouds and out bounds\n",
    "age_group_bins = [14, 24, 34, 44, 54, 64]\n",
    "# add new column `AgeGroup(Years)` to sat_job_respondents_df \n",
    "sat_job_respondents_df.loc[:,age_group_col_name] = pd.cut(sat_job_respondents_df['Age'], \n",
    "                                                          bins=age_group_bins, labels=age_group_labels)\n",
    "\n",
    "# add new column `AgeGroup(Years)` to dis_sat_job_respondents_df\n",
    "dis_sat_job_respondents_df.loc[:,age_group_col_name] = pd.cut(dis_sat_job_respondents_df['Age'], \n",
    "                                                              bins=age_group_bins,labels=age_group_labels)"
   ]
  },
  {
   "cell_type": "code",
   "execution_count": 17,
   "metadata": {
    "pycharm": {
     "is_executing": false,
     "name": "#%%\n"
    }
   },
   "outputs": [],
   "source": [
    "# create a merged df using `AgeGroup(Years)` column\n",
    "merged_age_group_df = merge_sat_and_dsat_by_cols(age_group_col_name)"
   ]
  },
  {
   "cell_type": "code",
   "execution_count": 18,
   "metadata": {
    "pycharm": {
     "is_executing": false,
     "name": "#%%\n"
    }
   },
   "outputs": [
    {
     "data": {
      "text/html": [
       "<div>\n",
       "<style scoped>\n",
       "    .dataframe tbody tr th:only-of-type {\n",
       "        vertical-align: middle;\n",
       "    }\n",
       "\n",
       "    .dataframe tbody tr th {\n",
       "        vertical-align: top;\n",
       "    }\n",
       "\n",
       "    .dataframe thead th {\n",
       "        text-align: right;\n",
       "    }\n",
       "</style>\n",
       "<table border=\"1\" class=\"dataframe\">\n",
       "  <thead>\n",
       "    <tr style=\"text-align: right;\">\n",
       "      <th></th>\n",
       "      <th>AgeGroup(Years)</th>\n",
       "      <th>SatCount</th>\n",
       "      <th>DisSatCount</th>\n",
       "      <th>SatPercentage</th>\n",
       "      <th>DisSatPercentage</th>\n",
       "      <th>Total</th>\n",
       "      <th>TotalPercentage</th>\n",
       "    </tr>\n",
       "  </thead>\n",
       "  <tbody>\n",
       "    <tr>\n",
       "      <th>0</th>\n",
       "      <td>55-64</td>\n",
       "      <td>843</td>\n",
       "      <td>240</td>\n",
       "      <td>77.84%</td>\n",
       "      <td>22.16%</td>\n",
       "      <td>1083</td>\n",
       "      <td>1.90%</td>\n",
       "    </tr>\n",
       "    <tr>\n",
       "      <th>1</th>\n",
       "      <td>15-24</td>\n",
       "      <td>8017</td>\n",
       "      <td>2429</td>\n",
       "      <td>76.75%</td>\n",
       "      <td>23.25%</td>\n",
       "      <td>10446</td>\n",
       "      <td>18.37%</td>\n",
       "    </tr>\n",
       "    <tr>\n",
       "      <th>2</th>\n",
       "      <td>35-44</td>\n",
       "      <td>8813</td>\n",
       "      <td>2966</td>\n",
       "      <td>74.82%</td>\n",
       "      <td>25.18%</td>\n",
       "      <td>11779</td>\n",
       "      <td>20.72%</td>\n",
       "    </tr>\n",
       "    <tr>\n",
       "      <th>3</th>\n",
       "      <td>25-34</td>\n",
       "      <td>22500</td>\n",
       "      <td>7584</td>\n",
       "      <td>74.79%</td>\n",
       "      <td>25.21%</td>\n",
       "      <td>30084</td>\n",
       "      <td>52.91%</td>\n",
       "    </tr>\n",
       "    <tr>\n",
       "      <th>4</th>\n",
       "      <td>45-54</td>\n",
       "      <td>2593</td>\n",
       "      <td>876</td>\n",
       "      <td>74.75%</td>\n",
       "      <td>25.25%</td>\n",
       "      <td>3469</td>\n",
       "      <td>6.10%</td>\n",
       "    </tr>\n",
       "  </tbody>\n",
       "</table>\n",
       "</div>"
      ],
      "text/plain": [
       "  AgeGroup(Years)  SatCount  DisSatCount SatPercentage DisSatPercentage  \\\n",
       "0           55-64       843          240        77.84%           22.16%   \n",
       "1           15-24      8017         2429        76.75%           23.25%   \n",
       "2           35-44      8813         2966        74.82%           25.18%   \n",
       "3           25-34     22500         7584        74.79%           25.21%   \n",
       "4           45-54      2593          876        74.75%           25.25%   \n",
       "\n",
       "   Total TotalPercentage  \n",
       "0   1083           1.90%  \n",
       "1  10446          18.37%  \n",
       "2  11779          20.72%  \n",
       "3  30084          52.91%  \n",
       "4   3469           6.10%  "
      ]
     },
     "execution_count": 18,
     "metadata": {},
     "output_type": "execute_result"
    }
   ],
   "source": [
    "# calculate row percentages and all column percentages for merged_age_group_df\n",
    "calculate_sat_and_dsat_pecentage(merged_age_group_df)"
   ]
  },
  {
   "cell_type": "markdown",
   "metadata": {},
   "source": [
    "**The largest age group of the employees amounting to 52.91 percent was in the age group of between 25 and 34 years. The smallest age group was 55 years or above, with about 1.90 percent of the total. The finding reflects that the employees in the IT industry were relatively young. The young group was less satisfied, as opposed to the older satisfied group. There was no much job level satisfaction difference among employees who were in age groups 25–34, 35–44, and 45–54.**"
   ]
  },
  {
   "cell_type": "code",
   "execution_count": 19,
   "metadata": {
    "pycharm": {
     "is_executing": false,
     "name": "#%%\n"
    }
   },
   "outputs": [
    {
     "data": {
      "text/plain": [
       "Text(0.5, 1.0, 'Job Dissatisfaction By Age Groups')"
      ]
     },
     "execution_count": 19,
     "metadata": {},
     "output_type": "execute_result"
    },
    {
     "data": {
      "image/png": "[encoded data removed]",
      "text/plain": [
       "<Figure size 1080x1080 with 2 Axes>"
      ]
     },
     "metadata": {},
     "output_type": "display_data"
    }
   ],
   "source": [
    "# create matplotlib subplot for satisfaied and dissatisfied age groups\n",
    "# row count =1\n",
    "# column count = 2\n",
    "# with squire figures\n",
    "fig ,axs = plt.subplots(1,2, figsize=(15, 15))\n",
    "# common configurations for subplots in matplotlib\n",
    "# https://matplotlib.org/api/_as_gen/matplotlib.pyplot.subplots.html\n",
    "fig.subplots_adjust(left=0.08, right=0.98, bottom=0.05, top=0.9,hspace=0.4, wspace=0.3)\n",
    "\n",
    "# draw a plot for satisfaied respondents\n",
    "sat_job_respondents_df[age_group_col_name].value_counts().plot(kind='pie', ax=axs.flatten()[0], autopct='%1.2f%%')\n",
    "# set the satisfied job respondent's pie chart title\n",
    "axs[0].set_title('Job Satisfaction By Age Groups')\n",
    "\n",
    "# draw a plot for dissatisfied respondents\n",
    "dis_sat_job_respondents_df[age_group_col_name].value_counts().plot(kind='pie', ax=axs.flatten()[1], autopct='%1.2f%%')\n",
    "# set the dissatisfied job respondent's pie chart title\n",
    "axs[1].set_title('Job Dissatisfaction By Age Groups')"
   ]
  },
  {
   "cell_type": "markdown",
   "metadata": {},
   "source": [
    "### Question 3\n",
    "**Question 3:** How does education relate to job satisfaction?"
   ]
  },
  {
   "cell_type": "markdown",
   "metadata": {},
   "source": [
    "**Employees who had a higher level of education are more satisfied**"
   ]
  },
  {
   "cell_type": "code",
   "execution_count": 20,
   "metadata": {
    "pycharm": {
     "is_executing": false,
     "name": "#%%\n"
    }
   },
   "outputs": [],
   "source": [
    "# create a merged df for `EdLevel` column\n",
    "merged_edl_df = merge_sat_and_dsat_by_cols('EdLevel')"
   ]
  },
  {
   "cell_type": "code",
   "execution_count": 21,
   "metadata": {
    "pycharm": {
     "is_executing": false,
     "name": "#%%\n"
    }
   },
   "outputs": [
    {
     "data": {
      "text/html": [
       "<div>\n",
       "<style scoped>\n",
       "    .dataframe tbody tr th:only-of-type {\n",
       "        vertical-align: middle;\n",
       "    }\n",
       "\n",
       "    .dataframe tbody tr th {\n",
       "        vertical-align: top;\n",
       "    }\n",
       "\n",
       "    .dataframe thead th {\n",
       "        text-align: right;\n",
       "    }\n",
       "</style>\n",
       "<table border=\"1\" class=\"dataframe\">\n",
       "  <thead>\n",
       "    <tr style=\"text-align: right;\">\n",
       "      <th></th>\n",
       "      <th>EdLevel</th>\n",
       "      <th>SatCount</th>\n",
       "      <th>DisSatCount</th>\n",
       "      <th>SatPercentage</th>\n",
       "      <th>DisSatPercentage</th>\n",
       "      <th>Total</th>\n",
       "      <th>TotalPercentage</th>\n",
       "    </tr>\n",
       "  </thead>\n",
       "  <tbody>\n",
       "    <tr>\n",
       "      <th>0</th>\n",
       "      <td>Other doctoral degree (Ph.D, Ed.D., etc.)</td>\n",
       "      <td>1592</td>\n",
       "      <td>395</td>\n",
       "      <td>80.12%</td>\n",
       "      <td>19.88%</td>\n",
       "      <td>1987</td>\n",
       "      <td>3.25%</td>\n",
       "    </tr>\n",
       "    <tr>\n",
       "      <th>1</th>\n",
       "      <td>Secondary school (e.g. American high school, G...</td>\n",
       "      <td>2433</td>\n",
       "      <td>702</td>\n",
       "      <td>77.61%</td>\n",
       "      <td>22.39%</td>\n",
       "      <td>3135</td>\n",
       "      <td>5.12%</td>\n",
       "    </tr>\n",
       "    <tr>\n",
       "      <th>2</th>\n",
       "      <td>Associate degree</td>\n",
       "      <td>1537</td>\n",
       "      <td>476</td>\n",
       "      <td>76.35%</td>\n",
       "      <td>23.65%</td>\n",
       "      <td>2013</td>\n",
       "      <td>3.29%</td>\n",
       "    </tr>\n",
       "    <tr>\n",
       "      <th>3</th>\n",
       "      <td>Master’s degree (MA, MS, M.Eng., MBA, etc.)</td>\n",
       "      <td>11805</td>\n",
       "      <td>3849</td>\n",
       "      <td>75.41%</td>\n",
       "      <td>24.59%</td>\n",
       "      <td>15654</td>\n",
       "      <td>25.58%</td>\n",
       "    </tr>\n",
       "    <tr>\n",
       "      <th>4</th>\n",
       "      <td>Some college/university study without earning ...</td>\n",
       "      <td>5252</td>\n",
       "      <td>1734</td>\n",
       "      <td>75.18%</td>\n",
       "      <td>24.82%</td>\n",
       "      <td>6986</td>\n",
       "      <td>11.42%</td>\n",
       "    </tr>\n",
       "    <tr>\n",
       "      <th>5</th>\n",
       "      <td>Bachelor’s degree (BA, BS, B.Eng., etc.)</td>\n",
       "      <td>22297</td>\n",
       "      <td>7691</td>\n",
       "      <td>74.35%</td>\n",
       "      <td>25.65%</td>\n",
       "      <td>29988</td>\n",
       "      <td>49.00%</td>\n",
       "    </tr>\n",
       "    <tr>\n",
       "      <th>6</th>\n",
       "      <td>Primary/elementary school</td>\n",
       "      <td>220</td>\n",
       "      <td>93</td>\n",
       "      <td>70.29%</td>\n",
       "      <td>29.71%</td>\n",
       "      <td>313</td>\n",
       "      <td>0.51%</td>\n",
       "    </tr>\n",
       "    <tr>\n",
       "      <th>7</th>\n",
       "      <td>Professional degree (JD, MD, etc.)</td>\n",
       "      <td>565</td>\n",
       "      <td>287</td>\n",
       "      <td>66.31%</td>\n",
       "      <td>33.69%</td>\n",
       "      <td>852</td>\n",
       "      <td>1.39%</td>\n",
       "    </tr>\n",
       "    <tr>\n",
       "      <th>8</th>\n",
       "      <td>I never completed any formal education</td>\n",
       "      <td>178</td>\n",
       "      <td>94</td>\n",
       "      <td>65.44%</td>\n",
       "      <td>34.56%</td>\n",
       "      <td>272</td>\n",
       "      <td>0.44%</td>\n",
       "    </tr>\n",
       "  </tbody>\n",
       "</table>\n",
       "</div>"
      ],
      "text/plain": [
       "                                             EdLevel  SatCount  DisSatCount  \\\n",
       "0          Other doctoral degree (Ph.D, Ed.D., etc.)      1592          395   \n",
       "1  Secondary school (e.g. American high school, G...      2433          702   \n",
       "2                                   Associate degree      1537          476   \n",
       "3        Master’s degree (MA, MS, M.Eng., MBA, etc.)     11805         3849   \n",
       "4  Some college/university study without earning ...      5252         1734   \n",
       "5           Bachelor’s degree (BA, BS, B.Eng., etc.)     22297         7691   \n",
       "6                          Primary/elementary school       220           93   \n",
       "7                 Professional degree (JD, MD, etc.)       565          287   \n",
       "8             I never completed any formal education       178           94   \n",
       "\n",
       "  SatPercentage DisSatPercentage  Total TotalPercentage  \n",
       "0        80.12%           19.88%   1987           3.25%  \n",
       "1        77.61%           22.39%   3135           5.12%  \n",
       "2        76.35%           23.65%   2013           3.29%  \n",
       "3        75.41%           24.59%  15654          25.58%  \n",
       "4        75.18%           24.82%   6986          11.42%  \n",
       "5        74.35%           25.65%  29988          49.00%  \n",
       "6        70.29%           29.71%    313           0.51%  \n",
       "7        66.31%           33.69%    852           1.39%  \n",
       "8        65.44%           34.56%    272           0.44%  "
      ]
     },
     "execution_count": 21,
     "metadata": {},
     "output_type": "execute_result"
    }
   ],
   "source": [
    "# calculate row percentages and all column percentages for merged_edl_df\n",
    "calculate_sat_and_dsat_pecentage(merged_edl_df)"
   ]
  },
  {
   "cell_type": "markdown",
   "metadata": {},
   "source": [
    "**Concerning job satisfaction level, 80.12 percent of the employees who had a doctoral degree were satisfied with their job. This value is relatively high compared to 65.44 percent of satisfied employees who had no formal education. The finding to some extent indicates that those who obtained a higher level of education experience a high level of satisfaction.**"
   ]
  },
  {
   "cell_type": "markdown",
   "metadata": {},
   "source": [
    "**Employees who had studied in different fields are more satisfied**"
   ]
  },
  {
   "cell_type": "code",
   "execution_count": 22,
   "metadata": {
    "pycharm": {
     "is_executing": false,
     "name": "#%%\n"
    }
   },
   "outputs": [],
   "source": [
    "# create a merged df for `UndergradMajor` column\n",
    "merged_unmajor_df = merge_sat_and_dsat_by_cols('UndergradMajor')"
   ]
  },
  {
   "cell_type": "code",
   "execution_count": 23,
   "metadata": {
    "pycharm": {
     "is_executing": false,
     "name": "#%%\n"
    }
   },
   "outputs": [
    {
     "data": {
      "text/html": [
       "<div>\n",
       "<style scoped>\n",
       "    .dataframe tbody tr th:only-of-type {\n",
       "        vertical-align: middle;\n",
       "    }\n",
       "\n",
       "    .dataframe tbody tr th {\n",
       "        vertical-align: top;\n",
       "    }\n",
       "\n",
       "    .dataframe thead th {\n",
       "        text-align: right;\n",
       "    }\n",
       "</style>\n",
       "<table border=\"1\" class=\"dataframe\">\n",
       "  <thead>\n",
       "    <tr style=\"text-align: right;\">\n",
       "      <th></th>\n",
       "      <th>UndergradMajor</th>\n",
       "      <th>SatCount</th>\n",
       "      <th>DisSatCount</th>\n",
       "      <th>SatPercentage</th>\n",
       "      <th>DisSatPercentage</th>\n",
       "      <th>Total</th>\n",
       "      <th>TotalPercentage</th>\n",
       "    </tr>\n",
       "  </thead>\n",
       "  <tbody>\n",
       "    <tr>\n",
       "      <th>0</th>\n",
       "      <td>A social science (ex. anthropology, psychology...</td>\n",
       "      <td>808</td>\n",
       "      <td>211</td>\n",
       "      <td>79.29%</td>\n",
       "      <td>20.71%</td>\n",
       "      <td>1019</td>\n",
       "      <td>1.79%</td>\n",
       "    </tr>\n",
       "    <tr>\n",
       "      <th>1</th>\n",
       "      <td>A health science (ex. nursing, pharmacy, radio...</td>\n",
       "      <td>145</td>\n",
       "      <td>40</td>\n",
       "      <td>78.38%</td>\n",
       "      <td>21.62%</td>\n",
       "      <td>185</td>\n",
       "      <td>0.32%</td>\n",
       "    </tr>\n",
       "    <tr>\n",
       "      <th>2</th>\n",
       "      <td>A natural science (ex. biology, chemistry, phy...</td>\n",
       "      <td>1982</td>\n",
       "      <td>557</td>\n",
       "      <td>78.06%</td>\n",
       "      <td>21.94%</td>\n",
       "      <td>2539</td>\n",
       "      <td>4.45%</td>\n",
       "    </tr>\n",
       "    <tr>\n",
       "      <th>3</th>\n",
       "      <td>Mathematics or statistics</td>\n",
       "      <td>1745</td>\n",
       "      <td>501</td>\n",
       "      <td>77.69%</td>\n",
       "      <td>22.31%</td>\n",
       "      <td>2246</td>\n",
       "      <td>3.94%</td>\n",
       "    </tr>\n",
       "    <tr>\n",
       "      <th>4</th>\n",
       "      <td>A humanities discipline (ex. literature, histo...</td>\n",
       "      <td>945</td>\n",
       "      <td>288</td>\n",
       "      <td>76.64%</td>\n",
       "      <td>23.36%</td>\n",
       "      <td>1233</td>\n",
       "      <td>2.16%</td>\n",
       "    </tr>\n",
       "    <tr>\n",
       "      <th>5</th>\n",
       "      <td>A business discipline (ex. accounting, finance...</td>\n",
       "      <td>997</td>\n",
       "      <td>304</td>\n",
       "      <td>76.63%</td>\n",
       "      <td>23.37%</td>\n",
       "      <td>1301</td>\n",
       "      <td>2.28%</td>\n",
       "    </tr>\n",
       "    <tr>\n",
       "      <th>6</th>\n",
       "      <td>Fine arts or performing arts (ex. graphic desi...</td>\n",
       "      <td>721</td>\n",
       "      <td>231</td>\n",
       "      <td>75.74%</td>\n",
       "      <td>24.26%</td>\n",
       "      <td>952</td>\n",
       "      <td>1.67%</td>\n",
       "    </tr>\n",
       "    <tr>\n",
       "      <th>7</th>\n",
       "      <td>Computer science, computer engineering, or sof...</td>\n",
       "      <td>26938</td>\n",
       "      <td>9079</td>\n",
       "      <td>74.79%</td>\n",
       "      <td>25.21%</td>\n",
       "      <td>36017</td>\n",
       "      <td>63.17%</td>\n",
       "    </tr>\n",
       "    <tr>\n",
       "      <th>8</th>\n",
       "      <td>Another engineering discipline (ex. civil, ele...</td>\n",
       "      <td>3480</td>\n",
       "      <td>1236</td>\n",
       "      <td>73.79%</td>\n",
       "      <td>26.21%</td>\n",
       "      <td>4716</td>\n",
       "      <td>8.27%</td>\n",
       "    </tr>\n",
       "    <tr>\n",
       "      <th>9</th>\n",
       "      <td>Web development or web design</td>\n",
       "      <td>1696</td>\n",
       "      <td>632</td>\n",
       "      <td>72.85%</td>\n",
       "      <td>27.15%</td>\n",
       "      <td>2328</td>\n",
       "      <td>4.08%</td>\n",
       "    </tr>\n",
       "    <tr>\n",
       "      <th>10</th>\n",
       "      <td>I never declared a major</td>\n",
       "      <td>448</td>\n",
       "      <td>169</td>\n",
       "      <td>72.61%</td>\n",
       "      <td>27.39%</td>\n",
       "      <td>617</td>\n",
       "      <td>1.08%</td>\n",
       "    </tr>\n",
       "    <tr>\n",
       "      <th>11</th>\n",
       "      <td>Information systems, information technology, o...</td>\n",
       "      <td>2799</td>\n",
       "      <td>1061</td>\n",
       "      <td>72.51%</td>\n",
       "      <td>27.49%</td>\n",
       "      <td>3860</td>\n",
       "      <td>6.77%</td>\n",
       "    </tr>\n",
       "  </tbody>\n",
       "</table>\n",
       "</div>"
      ],
      "text/plain": [
       "                                       UndergradMajor  SatCount  DisSatCount  \\\n",
       "0   A social science (ex. anthropology, psychology...       808          211   \n",
       "1   A health science (ex. nursing, pharmacy, radio...       145           40   \n",
       "2   A natural science (ex. biology, chemistry, phy...      1982          557   \n",
       "3                           Mathematics or statistics      1745          501   \n",
       "4   A humanities discipline (ex. literature, histo...       945          288   \n",
       "5   A business discipline (ex. accounting, finance...       997          304   \n",
       "6   Fine arts or performing arts (ex. graphic desi...       721          231   \n",
       "7   Computer science, computer engineering, or sof...     26938         9079   \n",
       "8   Another engineering discipline (ex. civil, ele...      3480         1236   \n",
       "9                       Web development or web design      1696          632   \n",
       "10                           I never declared a major       448          169   \n",
       "11  Information systems, information technology, o...      2799         1061   \n",
       "\n",
       "   SatPercentage DisSatPercentage  Total TotalPercentage  \n",
       "0         79.29%           20.71%   1019           1.79%  \n",
       "1         78.38%           21.62%    185           0.32%  \n",
       "2         78.06%           21.94%   2539           4.45%  \n",
       "3         77.69%           22.31%   2246           3.94%  \n",
       "4         76.64%           23.36%   1233           2.16%  \n",
       "5         76.63%           23.37%   1301           2.28%  \n",
       "6         75.74%           24.26%    952           1.67%  \n",
       "7         74.79%           25.21%  36017          63.17%  \n",
       "8         73.79%           26.21%   4716           8.27%  \n",
       "9         72.85%           27.15%   2328           4.08%  \n",
       "10        72.61%           27.39%    617           1.08%  \n",
       "11        72.51%           27.49%   3860           6.77%  "
      ]
     },
     "execution_count": 23,
     "metadata": {},
     "output_type": "execute_result"
    }
   ],
   "source": [
    "# calculate row percentages and all column percentages for merged_unmajor_df\n",
    "calculate_sat_and_dsat_pecentage(merged_unmajor_df)"
   ]
  },
  {
   "cell_type": "markdown",
   "metadata": {},
   "source": [
    "**74.79 percent of the employees who had studied in computer science, computer engineering, or software engineering fields were satisfied with their job. This percentage is lower, as opposed to those who had studied in social science, health science or natural science.**"
   ]
  },
  {
   "cell_type": "markdown",
   "metadata": {},
   "source": [
    "### Question 4\n",
    "**Question 4:** How does income level affect job satisfaction?"
   ]
  },
  {
   "cell_type": "code",
   "execution_count": 24,
   "metadata": {
    "pycharm": {
     "is_executing": false,
     "name": "#%%\n"
    }
   },
   "outputs": [
    {
     "data": {
      "text/plain": [
       "Text(0.5, 1.0, 'Income Level by Job Dissatisfaction')"
      ]
     },
     "execution_count": 24,
     "metadata": {},
     "output_type": "execute_result"
    },
    {
     "data": {
      "image/png": "[encoded data removed]",
      "text/plain": [
       "<Figure size 1440x720 with 2 Axes>"
      ]
     },
     "metadata": {},
     "output_type": "display_data"
    }
   ],
   "source": [
    "# Exploratory data analysis to undestand outliers for `ConvertedComp`\n",
    "# matplotlib subplots configurations\n",
    "fig, axs = plt.subplots(1,2, figsize=(20,10))\n",
    "\n",
    "# draw a boxplot for job_sat_respondents_df\n",
    "job_sat_respondents_df.boxplot(column=['ConvertedComp'], ax=axs.flatten()[0])\n",
    "axs[0].set_title('Income Level by Job Satisfaction')\n",
    "\n",
    "# draw a boxplot for dis_sat_job_respondents_df\n",
    "dis_sat_job_respondents_df.boxplot(column=['ConvertedComp'], ax=axs.flatten()[1])\n",
    "axs[1].set_title('Income Level by Job Dissatisfaction')"
   ]
  },
  {
   "cell_type": "code",
   "execution_count": 25,
   "metadata": {
    "pycharm": {
     "is_executing": false,
     "name": "#%%\n"
    }
   },
   "outputs": [
    {
     "data": {
      "text/plain": [
       "Text(0.5, 1.0, 'Least Job Satisfaction')"
      ]
     },
     "execution_count": 25,
     "metadata": {},
     "output_type": "execute_result"
    },
    {
     "data": {
      "image/png": "[encoded data removed]",
      "text/plain": [
       "<Figure size 1440x720 with 2 Axes>"
      ]
     },
     "metadata": {},
     "output_type": "display_data"
    }
   ],
   "source": [
    "# matplotlib subplots configurations\n",
    "fig, axs = plt.subplots(1,2, figsize=(20,10))\n",
    "# ignore the outliers and draw a boxplot for job_sat_respondents_df\n",
    "job_sat_respondents_df[job_sat_respondents_df['ConvertedComp'] <= 175000].boxplot(column=['ConvertedComp'], \n",
    "                                                                                  ax=axs.flatten()[0])\n",
    "axs[0].set_title('Most Job Satisfaction')\n",
    "\n",
    "# ignore the outlies and draw a boxplot for dis_sat_job_respondents_df\n",
    "dis_sat_job_respondents_df[dis_sat_job_respondents_df['ConvertedComp'] <= 160000].boxplot(column=['ConvertedComp'], \n",
    "                                                                                          ax=axs.flatten()[1])\n",
    "axs[1].set_title('Least Job Satisfaction')"
   ]
  },
  {
   "cell_type": "code",
   "execution_count": 30,
   "metadata": {
    "pycharm": {
     "is_executing": false,
     "name": "#%%\n"
    }
   },
   "outputs": [],
   "source": [
    "# income level group column name\n",
    "income_level_group_col_name = 'IncomeGroup($)'\n",
    "# income level group labels\n",
    "income_level_group_labels = ['25K-50K', '50K-75K','75K-100K','100K-125K','125K-150K', '150K-175K']\n",
    "# income level group bins \n",
    "income_level_group_bins = [25000, 50000, 75000, 100000, 125000, 150000, 175000]"
   ]
  },
  {
   "cell_type": "code",
   "execution_count": 42,
   "metadata": {},
   "outputs": [],
   "source": [
    "# add a new column `IncomeGroup($)` sat_job_respondents_df with inbund, outbound values\n",
    "sat_job_respondents_df.loc[:,income_level_group_col_name] = pd.cut(job_sat_respondents_df['ConvertedComp'], \n",
    "                                                   bins=income_level_group_bins, labels=income_level_group_labels)"
   ]
  },
  {
   "cell_type": "code",
   "execution_count": 43,
   "metadata": {},
   "outputs": [],
   "source": [
    "# add a new column `IncomeGroup($)` dis_sat_job_respondents_df with inbund, outbound values\n",
    "dis_sat_job_respondents_df.loc[:,income_level_group_col_name] = pd.cut(dis_sat_job_respondents_df['ConvertedComp'], \n",
    "                                                              bins=income_level_group_bins, labels=income_level_group_labels)"
   ]
  },
  {
   "cell_type": "code",
   "execution_count": 46,
   "metadata": {
    "pycharm": {
     "is_executing": false,
     "name": "#%%\n"
    }
   },
   "outputs": [],
   "source": [
    "# create a merged df for `IncomeGroup($)` column\n",
    "merged_income_group_df = merge_sat_and_dsat_by_cols(income_level_group_col_name)"
   ]
  },
  {
   "cell_type": "code",
   "execution_count": 47,
   "metadata": {
    "pycharm": {
     "is_executing": false,
     "name": "#%%\n"
    }
   },
   "outputs": [
    {
     "data": {
      "text/html": [
       "<div>\n",
       "<style scoped>\n",
       "    .dataframe tbody tr th:only-of-type {\n",
       "        vertical-align: middle;\n",
       "    }\n",
       "\n",
       "    .dataframe tbody tr th {\n",
       "        vertical-align: top;\n",
       "    }\n",
       "\n",
       "    .dataframe thead th {\n",
       "        text-align: right;\n",
       "    }\n",
       "</style>\n",
       "<table border=\"1\" class=\"dataframe\">\n",
       "  <thead>\n",
       "    <tr style=\"text-align: right;\">\n",
       "      <th></th>\n",
       "      <th>IncomeGroup($)</th>\n",
       "      <th>SatCount</th>\n",
       "      <th>DisSatCount</th>\n",
       "      <th>SatPercentage</th>\n",
       "      <th>DisSatPercentage</th>\n",
       "      <th>Total</th>\n",
       "      <th>TotalPercentage</th>\n",
       "    </tr>\n",
       "  </thead>\n",
       "  <tbody>\n",
       "    <tr>\n",
       "      <th>0</th>\n",
       "      <td>125K-150K</td>\n",
       "      <td>2013</td>\n",
       "      <td>498</td>\n",
       "      <td>80.17%</td>\n",
       "      <td>19.83%</td>\n",
       "      <td>2511</td>\n",
       "      <td>7.64%</td>\n",
       "    </tr>\n",
       "    <tr>\n",
       "      <th>1</th>\n",
       "      <td>150K-175K</td>\n",
       "      <td>987</td>\n",
       "      <td>252</td>\n",
       "      <td>79.66%</td>\n",
       "      <td>20.34%</td>\n",
       "      <td>1239</td>\n",
       "      <td>3.77%</td>\n",
       "    </tr>\n",
       "    <tr>\n",
       "      <th>2</th>\n",
       "      <td>100K-125K</td>\n",
       "      <td>2923</td>\n",
       "      <td>752</td>\n",
       "      <td>79.54%</td>\n",
       "      <td>20.46%</td>\n",
       "      <td>3675</td>\n",
       "      <td>11.18%</td>\n",
       "    </tr>\n",
       "    <tr>\n",
       "      <th>3</th>\n",
       "      <td>75K-100K</td>\n",
       "      <td>4837</td>\n",
       "      <td>1327</td>\n",
       "      <td>78.47%</td>\n",
       "      <td>21.53%</td>\n",
       "      <td>6164</td>\n",
       "      <td>18.75%</td>\n",
       "    </tr>\n",
       "    <tr>\n",
       "      <th>4</th>\n",
       "      <td>50K-75K</td>\n",
       "      <td>7154</td>\n",
       "      <td>2109</td>\n",
       "      <td>77.23%</td>\n",
       "      <td>22.77%</td>\n",
       "      <td>9263</td>\n",
       "      <td>28.17%</td>\n",
       "    </tr>\n",
       "    <tr>\n",
       "      <th>5</th>\n",
       "      <td>25K-50K</td>\n",
       "      <td>7379</td>\n",
       "      <td>2651</td>\n",
       "      <td>73.57%</td>\n",
       "      <td>26.43%</td>\n",
       "      <td>10030</td>\n",
       "      <td>30.50%</td>\n",
       "    </tr>\n",
       "  </tbody>\n",
       "</table>\n",
       "</div>"
      ],
      "text/plain": [
       "  IncomeGroup($)  SatCount  DisSatCount SatPercentage DisSatPercentage  Total  \\\n",
       "0      125K-150K      2013          498        80.17%           19.83%   2511   \n",
       "1      150K-175K       987          252        79.66%           20.34%   1239   \n",
       "2      100K-125K      2923          752        79.54%           20.46%   3675   \n",
       "3       75K-100K      4837         1327        78.47%           21.53%   6164   \n",
       "4        50K-75K      7154         2109        77.23%           22.77%   9263   \n",
       "5        25K-50K      7379         2651        73.57%           26.43%  10030   \n",
       "\n",
       "  TotalPercentage  \n",
       "0           7.64%  \n",
       "1           3.77%  \n",
       "2          11.18%  \n",
       "3          18.75%  \n",
       "4          28.17%  \n",
       "5          30.50%  "
      ]
     },
     "execution_count": 47,
     "metadata": {},
     "output_type": "execute_result"
    }
   ],
   "source": [
    "# calculate row percentages and all column percentages for merged_income_group_df\n",
    "calculate_sat_and_dsat_pecentage(merged_income_group_df)"
   ]
  },
  {
   "cell_type": "markdown",
   "metadata": {},
   "source": [
    "**Interestingly, the finding reveals that a total of 73.57 percent of those with an annual income between $25K and $50K is satisfied with their job, lower as compared to 80.17 percent and 79.66 percent respectively for those with income from $125K to $150K and $150K to $175K.**"
   ]
  },
  {
   "cell_type": "markdown",
   "metadata": {},
   "source": [
    "**Gender wise income levels of satisfied employees**"
   ]
  },
  {
   "cell_type": "code",
   "execution_count": 72,
   "metadata": {
    "pycharm": {
     "is_executing": false,
     "name": "#%%\n"
    }
   },
   "outputs": [],
   "source": [
    "# create a new pandas df with join `Gender`,`JobSat`, and 'ConvertedComp'\n",
    "gender_income_df = df.copy()[(df['Gender'] == 'Male') | (df['Gender'] == 'Female') ][['Gender', 'ConvertedComp', 'JobSat']]\n",
    "# remove NAN values from gender_income_df\n",
    "gender_income_df  = gender_income_df.dropna(axis=0)"
   ]
  },
  {
   "cell_type": "code",
   "execution_count": 73,
   "metadata": {
    "pycharm": {
     "is_executing": false,
     "name": "#%% \n"
    }
   },
   "outputs": [],
   "source": [
    "# fill gender_income_df with income levels' bins\n",
    "gender_income_df.loc[:,income_level_group_col_name] = pd.cut(gender_income_df['ConvertedComp'], \n",
    "                                                    bins=income_level_group_bins, labels=income_level_group_labels)\n",
    "\n",
    "# remove NANs for `IncomeGroup($)`   gender_income_df\n",
    "gender_income_df = gender_income_df.dropna(subset=[income_level_group_col_name],axis=0)\n",
    "\n",
    "# create a new DF with selected columns\n",
    "selected_df =  gender_income_df.copy()[['Gender', income_level_group_col_name, 'JobSat']]"
   ]
  },
  {
   "cell_type": "code",
   "execution_count": 64,
   "metadata": {
    "pycharm": {
     "is_executing": false,
     "name": "#%%\n"
    }
   },
   "outputs": [],
   "source": [
    "# reasgins values for satisfaction\n",
    "selected_df.loc[selected_df['JobSat'] =='Slightly satisfied', 'JobSat'] = 'Satisfied'\n",
    "selected_df.loc[selected_df['JobSat'] =='Very satisfied', 'JobSat'] = 'Satisfied'"
   ]
  },
  {
   "cell_type": "code",
   "execution_count": 65,
   "metadata": {
    "pycharm": {
     "is_executing": false,
     "name": "#%%\n"
    }
   },
   "outputs": [],
   "source": [
    "# group the selected DF for `Gender` and 'IncomeGroup($)'\n",
    "job_sat_income_gender_df =  selected_df[selected_df['JobSat'] =='Satisfied']\\\n",
    "    .groupby([income_level_group_col_name,'Gender'])\\\n",
    "    .count().reset_index()"
   ]
  },
  {
   "cell_type": "code",
   "execution_count": 66,
   "metadata": {
    "pycharm": {
     "is_executing": false,
     "name": "#%%\n"
    }
   },
   "outputs": [],
   "source": [
    "# create a df for males\n",
    "male_df = job_sat_income_gender_df[job_sat_income_gender_df['Gender'] == 'Male'][[income_level_group_col_name,'JobSat']]\n",
    "# rename `JobSat` as `MaleJobSat`\n",
    "male_df.columns = [income_level_group_col_name, 'MaleJobSat']"
   ]
  },
  {
   "cell_type": "code",
   "execution_count": 67,
   "metadata": {
    "pycharm": {
     "is_executing": false,
     "name": "#%%\n"
    }
   },
   "outputs": [],
   "source": [
    "# create a df for female\n",
    "female_df = job_sat_income_gender_df[job_sat_income_gender_df['Gender'] == 'Female'][[income_level_group_col_name,'JobSat']]\n",
    "# rename `JobSat` as `FemaleJ`\n",
    "female_df.columns = [income_level_group_col_name, 'FemaleJobSat']"
   ]
  },
  {
   "cell_type": "code",
   "execution_count": 68,
   "metadata": {
    "pycharm": {
     "is_executing": false,
     "name": "#%%\n"
    }
   },
   "outputs": [
    {
     "data": {
      "text/html": [
       "<div>\n",
       "<style scoped>\n",
       "    .dataframe tbody tr th:only-of-type {\n",
       "        vertical-align: middle;\n",
       "    }\n",
       "\n",
       "    .dataframe tbody tr th {\n",
       "        vertical-align: top;\n",
       "    }\n",
       "\n",
       "    .dataframe thead th {\n",
       "        text-align: right;\n",
       "    }\n",
       "</style>\n",
       "<table border=\"1\" class=\"dataframe\">\n",
       "  <thead>\n",
       "    <tr style=\"text-align: right;\">\n",
       "      <th></th>\n",
       "      <th>IncomeGroup($)</th>\n",
       "      <th>FemaleJobSat</th>\n",
       "      <th>MaleJobSat</th>\n",
       "    </tr>\n",
       "  </thead>\n",
       "  <tbody>\n",
       "    <tr>\n",
       "      <th>0</th>\n",
       "      <td>25K-50K</td>\n",
       "      <td>522</td>\n",
       "      <td>6674</td>\n",
       "    </tr>\n",
       "    <tr>\n",
       "      <th>1</th>\n",
       "      <td>50K-75K</td>\n",
       "      <td>532</td>\n",
       "      <td>6434</td>\n",
       "    </tr>\n",
       "    <tr>\n",
       "      <th>2</th>\n",
       "      <td>75K-100K</td>\n",
       "      <td>371</td>\n",
       "      <td>4340</td>\n",
       "    </tr>\n",
       "    <tr>\n",
       "      <th>3</th>\n",
       "      <td>100K-125K</td>\n",
       "      <td>239</td>\n",
       "      <td>2592</td>\n",
       "    </tr>\n",
       "    <tr>\n",
       "      <th>4</th>\n",
       "      <td>125K-150K</td>\n",
       "      <td>161</td>\n",
       "      <td>1794</td>\n",
       "    </tr>\n",
       "    <tr>\n",
       "      <th>5</th>\n",
       "      <td>150K-175K</td>\n",
       "      <td>55</td>\n",
       "      <td>904</td>\n",
       "    </tr>\n",
       "  </tbody>\n",
       "</table>\n",
       "</div>"
      ],
      "text/plain": [
       "  IncomeGroup($)  FemaleJobSat  MaleJobSat\n",
       "0        25K-50K           522        6674\n",
       "1        50K-75K           532        6434\n",
       "2       75K-100K           371        4340\n",
       "3      100K-125K           239        2592\n",
       "4      125K-150K           161        1794\n",
       "5      150K-175K            55         904"
      ]
     },
     "execution_count": 68,
     "metadata": {},
     "output_type": "execute_result"
    }
   ],
   "source": [
    "gender_contact_df = pd.merge(female_df, male_df, on=income_level_group_col_name)\n",
    "gender_contact_df"
   ]
  },
  {
   "cell_type": "code",
   "execution_count": 71,
   "metadata": {
    "pycharm": {
     "is_executing": false,
     "name": "#%%\n"
    }
   },
   "outputs": [
    {
     "data": {
      "text/plain": [
       "<matplotlib.axes._subplots.AxesSubplot at 0x7f3e2ceb27b8>"
      ]
     },
     "execution_count": 71,
     "metadata": {},
     "output_type": "execute_result"
    },
    {
     "data": {
      "image/png": "[encoded data removed]",
      "text/plain": [
       "<Figure size 720x720 with 1 Axes>"
      ]
     },
     "metadata": {},
     "output_type": "display_data"
    }
   ],
   "source": [
    "gender_contact_df.index = income_level_group_labels\n",
    "gender_contact_df.plot(kind='bar',figsize=(10,10) )"
   ]
  },
  {
   "cell_type": "markdown",
   "metadata": {},
   "source": [
    "**There is a decreasing trend from low to high-income levels between male and female groups.**"
   ]
  },
  {
   "cell_type": "code",
   "execution_count": null,
   "metadata": {},
   "outputs": [],
   "source": []
  }
 ],
 "metadata": {
  "kernelspec": {
   "display_name": "Python 3",
   "language": "python",
   "name": "python3"
  },
  "language_info": {
   "codemirror_mode": {
    "name": "ipython",
    "version": 3
   },
   "file_extension": ".py",
   "mimetype": "text/x-python",
   "name": "python",
   "nbconvert_exporter": "python",
   "pygments_lexer": "ipython3",
   "version": "3.6.8"
  },
  "pycharm": {
   "stem_cell": {
    "cell_type": "raw",
    "metadata": {
     "collapsed": false
    },
    "source": []
   }
  }
 },
 "nbformat": 4,
 "nbformat_minor": 1
}
